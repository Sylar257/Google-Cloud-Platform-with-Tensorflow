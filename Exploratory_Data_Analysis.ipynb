{
  "nbformat": 4,
  "nbformat_minor": 0,
  "metadata": {
    "colab": {
      "name": "Exploratory Data Analysis.ipynb",
      "provenance": [],
      "collapsed_sections": [],
      "include_colab_link": true
    },
    "kernelspec": {
      "name": "python3",
      "display_name": "Python 3"
    }
  },
  "cells": [
    {
      "cell_type": "markdown",
      "metadata": {
        "id": "view-in-github",
        "colab_type": "text"
      },
      "source": [
        "<a href=\"https://colab.research.google.com/github/Sylar257/Google-Cloud-Platform-with-Tensorflow/blob/master/Exploratory_Data_Analysis.ipynb\" target=\"_parent\"><img src=\"https://colab.research.google.com/assets/colab-badge.svg\" alt=\"Open In Colab\"/></a>"
      ]
    },
    {
      "cell_type": "markdown",
      "metadata": {
        "id": "rqmbx2r77YtO",
        "colab_type": "text"
      },
      "source": [
        "These code suppose to be run in a GCP instance. The instructions to set up such a instance\n",
        "is documented in the *README* [file](https://github.com/Sylar257/Google-Cloud-Platform-with-Tensorflow/blob/master/READNE.md) of thie Repo."
      ]
    },
    {
      "cell_type": "markdown",
      "metadata": {
        "id": "8PGXEJEF98Qs",
        "colab_type": "text"
      },
      "source": [
        "## Exploratory Data Analysis\n",
        "In this notebook, we will be performing EDA on a *natality* dataset from google *BigQuery*"
      ]
    },
    {
      "cell_type": "code",
      "metadata": {
        "id": "BVrqIxSt9ZZo",
        "colab_type": "code",
        "colab": {}
      },
      "source": [
        "# change these to try this notebook out\n",
        "BUCKET = 'example_bucket_26_11'      # CHANGE this to a globally unique value. Your project name is a good option to try.\n",
        "PROJECT = 'qwiklabs-gcp-00-09dd6f655043'     # CHANGE this to your project name\n",
        "REGION = 'australia-southeast1-a'    # CHANGE this to one of the regions supported by Cloud AI Platform https://cloud.google.com/ml-engine/docs/tensorflow/regions"
      ],
      "execution_count": 0,
      "outputs": []
    },
    {
      "cell_type": "code",
      "metadata": {
        "id": "K5ljvSz192lx",
        "colab_type": "code",
        "colab": {}
      },
      "source": [
        "import os\n",
        "os.environ['BUCKET'] = BUCKET\n",
        "os.environ['PROJECT'] = PROJECT\n",
        "os.environ['REGION'] = REGION\n",
        "%%bash\n",
        "if ! gsutil ls | grep -q gs://${BUCKET}/; then\n",
        "  gsutil mb -l ${REGION} gs://${BUCKET}\n",
        "fi"
      ],
      "execution_count": 0,
      "outputs": []
    },
    {
      "cell_type": "markdown",
      "metadata": {
        "id": "Vu7shHWy936j",
        "colab_type": "text"
      },
      "source": [
        "### Loading the data\n",
        "Use **SQL** query to access the natality data(\"LIMIT 1000\"), and create a **`Pandas` dataframe** to contain our query data.<br>\n",
        "The data is natality data (record of births in the US). My goal is to predict the baby's weight given a number of factors about the pregnancy and the baby's mother. Later, we will want to split the data into training and eval datasets. The hash of the year-month will be used for that -- this way, twins born on the same day won't end up in different cuts of the data."
      ]
    },
    {
      "cell_type": "code",
      "metadata": {
        "id": "lTMgJkDA-NRj",
        "colab_type": "code",
        "colab": {}
      },
      "source": [
        "query = \"\"\"\n",
        "SELECT\n",
        "  weight_pounds,\n",
        "  is_male,\n",
        "  mother_age,\n",
        "  plurality,\n",
        "  gestation_weeks,\n",
        "  ABS(FARM_FINGERPRINT(CONCAT(CAST(YEAR AS STRING), CAST(month AS STRING)))) AS hashmonth\n",
        "FROM\n",
        "  publicdata.samples.natality\n",
        "WHERE year > 2000\n",
        "\"\"\""
      ],
      "execution_count": 0,
      "outputs": []
    },
    {
      "cell_type": "code",
      "metadata": {
        "id": "HB2VobCW-2mP",
        "colab_type": "code",
        "colab": {}
      },
      "source": [
        "# Call BigQuery and examine in dataframe\n",
        "from google.cloud import bigquery\n",
        "df = bigquery.Client().query(query + \" LIMIT 100\").to_dataframe()\n",
        "df.head()"
      ],
      "execution_count": 0,
      "outputs": []
    },
    {
      "cell_type": "markdown",
      "metadata": {
        "id": "812B78pVBz_8",
        "colab_type": "text"
      },
      "source": [
        "#### Take a look at the relationship between \"gender\", \"number_of_babies\" and \"average weight\""
      ]
    },
    {
      "cell_type": "code",
      "metadata": {
        "id": "R6JpuAegBw5z",
        "colab_type": "code",
        "colab": {}
      },
      "source": [
        "query = \"\"\"\n",
        "SELECT\n",
        "    is_male,\n",
        "    COUNT(0) AS num_babies,\n",
        "    AVG(weight_pounds) AS avg_wt\n",
        "FROM\n",
        "    publicdata.samples.natality\n",
        "WHERE\n",
        "    year>2000\n",
        "GROUP BY\n",
        "    is_male\n",
        "\"\"\"\n",
        "df = bigquery.Client().query(query + \" LIMIT 100\").to_dataframe()\n",
        "df.head()"
      ],
      "execution_count": 0,
      "outputs": []
    },
    {
      "cell_type": "markdown",
      "metadata": {
        "id": "4zD42ZD2BMgg",
        "colab_type": "text"
      },
      "source": [
        "\t\tis_male\tnum_babies\tavg_wt\n",
        "\t0\tFalse\t 16245054\t  7.104715\n",
        "\t1\tTrue\t  17026860\t  7.349797"
      ]
    },
    {
      "cell_type": "code",
      "metadata": {
        "id": "DKiBjOMY--Eb",
        "colab_type": "code",
        "colab": {}
      },
      "source": [
        "# plot and see the corelation of our target(\"weight_pounds\") with other features\n",
        "\n",
        "df.plot(x='is_male', y='num_babies', logy=True, kind='bar');\n",
        "df.plot(x='is_male', y='avg_wt', kind='bar');"
      ],
      "execution_count": 0,
      "outputs": []
    }
  ]
}