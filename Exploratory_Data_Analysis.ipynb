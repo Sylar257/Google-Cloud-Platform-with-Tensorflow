{
  "nbformat": 4,
  "nbformat_minor": 0,
  "metadata": {
    "colab": {
      "name": "Exploratory Data Analysis.ipynb",
      "provenance": [],
      "collapsed_sections": [],
      "include_colab_link": true
    },
    "kernelspec": {
      "name": "python3",
      "display_name": "Python 3"
    }
  },
  "cells": [
    {
      "cell_type": "markdown",
      "metadata": {
        "id": "view-in-github",
        "colab_type": "text"
      },
      "source": [
        "<a href=\"https://colab.research.google.com/github/Sylar257/Google-Cloud-Platform-with-Tensorflow/blob/master/Exploratory_Data_Analysis.ipynb\" target=\"_parent\"><img src=\"https://colab.research.google.com/assets/colab-badge.svg\" alt=\"Open In Colab\"/></a>"
      ]
    },
    {
      "cell_type": "markdown",
      "metadata": {
        "id": "rqmbx2r77YtO",
        "colab_type": "text"
      },
      "source": [
        "These code suppose to be run in a GCP instance. The instructions to set up such a instance\n",
        "is documented in the *README* [file](https://github.com/Sylar257/Google-Cloud-Platform-with-Tensorflow/blob/master/READNE.md) of thie Repo."
      ]
    },
    {
      "cell_type": "markdown",
      "metadata": {
        "id": "8PGXEJEF98Qs",
        "colab_type": "text"
      },
      "source": [
        "## Exploratory Data Analysis\n",
        "In this notebook, we will be performing EDA on a *natality* dataset from google *BigQuery*"
      ]
    },
    {
      "cell_type": "code",
      "metadata": {
        "id": "BVrqIxSt9ZZo",
        "colab_type": "code",
        "colab": {}
      },
      "source": [
        "# change these to try this notebook out\n",
        "BUCKET = 'example_bucket_26_11'      # CHANGE this to a globally unique value. Your project name is a good option to try.\n",
        "PROJECT = 'qwiklabs-gcp-00-09dd6f655043'     # CHANGE this to your project name\n",
        "REGION = 'australia-southeast1-a'    # CHANGE this to one of the regions supported by Cloud AI Platform https://cloud.google.com/ml-engine/docs/tensorflow/regions"
      ],
      "execution_count": 0,
      "outputs": []
    },
    {
      "cell_type": "code",
      "metadata": {
        "id": "K5ljvSz192lx",
        "colab_type": "code",
        "colab": {}
      },
      "source": [
        "import os\n",
        "os.environ['BUCKET'] = BUCKET\n",
        "os.environ['PROJECT'] = PROJECT\n",
        "os.environ['REGION'] = REGION\n",
        "%%bash\n",
        "if ! gsutil ls | grep -q gs://${BUCKET}/; then\n",
        "  gsutil mb -l ${REGION} gs://${BUCKET}\n",
        "fi"
      ],
      "execution_count": 0,
      "outputs": []
    },
    {
      "cell_type": "markdown",
      "metadata": {
        "id": "Vu7shHWy936j",
        "colab_type": "text"
      },
      "source": [
        "### Loading the data\n",
        "Use **SQL** query to access the natality data(\"LIMIT 1000\"), and create a **`Pandas` dataframe** to contain our query data.<br>\n",
        "The data is natality data (record of births in the US). My goal is to predict the baby's weight given a number of factors about the pregnancy and the baby's mother. Later, we will want to split the data into training and eval datasets. The hash of the year-month will be used for that -- this way, twins born on the same day won't end up in different cuts of the data."
      ]
    },
    {
      "cell_type": "code",
      "metadata": {
        "id": "o0QMGmOFKH5u",
        "colab_type": "code",
        "colab": {
          "base_uri": "https://localhost:8080/",
          "height": 34
        },
        "outputId": "dc72371d-2059-4ff1-ea85-98891549dd02"
      },
      "source": [
        "# Folllowing three lines of code allows you to run it within colab as well\n",
        "from google.colab import auth\n",
        "auth.authenticate_user()\n",
        "print('Authenticated')\n"
      ],
      "execution_count": 3,
      "outputs": [
        {
          "output_type": "stream",
          "text": [
            "Authenticated\n"
          ],
          "name": "stdout"
        }
      ]
    },
    {
      "cell_type": "code",
      "metadata": {
        "id": "0qfd1EduKTIi",
        "colab_type": "code",
        "colab": {}
      },
      "source": [
        "%load_ext google.colab.data_table"
      ],
      "execution_count": 0,
      "outputs": []
    },
    {
      "cell_type": "code",
      "metadata": {
        "id": "14zk2ZlLKSby",
        "colab_type": "code",
        "colab": {}
      },
      "source": [
        "project_id = 'qwiklabs-gcp-00-36eabeb083f7'\n",
        "from google.cloud import bigquery\n"
      ],
      "execution_count": 0,
      "outputs": []
    },
    {
      "cell_type": "code",
      "metadata": {
        "id": "lTMgJkDA-NRj",
        "colab_type": "code",
        "colab": {
          "base_uri": "https://localhost:8080/",
          "height": 200
        },
        "outputId": "e849f9ae-6004-4ee3-d555-abd0f1760307"
      },
      "source": [
        "import pandas as pd\n",
        "query = \"\"\"\n",
        "SELECT\n",
        "  weight_pounds,\n",
        "  is_male,\n",
        "  mother_age,\n",
        "  plurality,\n",
        "  gestation_weeks,\n",
        "  ABS(FARM_FINGERPRINT(CONCAT(CAST(YEAR AS STRING), CAST(month AS STRING)))) AS hashmonth\n",
        "FROM\n",
        "  publicdata.samples.natality\n",
        "WHERE year > 2000\n",
        "LIMIT 200\n",
        "\"\"\"\n",
        "sample_count = 2000\n",
        "df = pd.io.gbq.read_gbq(query, project_id=project_id, dialect='standard')\n",
        "\n",
        "df.head()"
      ],
      "execution_count": 6,
      "outputs": [
        {
          "output_type": "execute_result",
          "data": {
            "application/vnd.google.colaboratory.module+javascript": "\n      import \"https://ssl.gstatic.com/colaboratory/data_table/9e554b27bdd509f3/data_table.js\";\n\n      window.createDataTable({\n        data: [[{\n            'v': 0,\n            'f': \"0\",\n        },\n{\n            'v': 7.06361087448,\n            'f': \"7.06361087448\",\n        },\ntrue,\n{\n            'v': 32,\n            'f': \"32\",\n        },\n{\n            'v': 1,\n            'f': \"1\",\n        },\n{\n            'v': 37.0,\n            'f': \"37.0\",\n        },\n{\n            'v': \"7108882242435606404\",\n            'f': \"7108882242435606404\",\n        }],\n [{\n            'v': 1,\n            'f': \"1\",\n        },\n{\n            'v': 4.68702769012,\n            'f': \"4.68702769012\",\n        },\ntrue,\n{\n            'v': 30,\n            'f': \"30\",\n        },\n{\n            'v': 3,\n            'f': \"3\",\n        },\n{\n            'v': 33.0,\n            'f': \"33.0\",\n        },\n{\n            'v': \"7170969733900686954\",\n            'f': \"7170969733900686954\",\n        }],\n [{\n            'v': 2,\n            'f': \"2\",\n        },\n{\n            'v': 7.5618555866,\n            'f': \"7.5618555866\",\n        },\ntrue,\n{\n            'v': 20,\n            'f': \"20\",\n        },\n{\n            'v': 1,\n            'f': \"1\",\n        },\n{\n            'v': 39.0,\n            'f': \"39.0\",\n        },\n{\n            'v': \"6392072535155213407\",\n            'f': \"6392072535155213407\",\n        }],\n [{\n            'v': 3,\n            'f': \"3\",\n        },\n{\n            'v': 7.5618555866,\n            'f': \"7.5618555866\",\n        },\ntrue,\n{\n            'v': 31,\n            'f': \"31\",\n        },\n{\n            'v': 1,\n            'f': \"1\",\n        },\n{\n            'v': 37.0,\n            'f': \"37.0\",\n        },\n{\n            'v': \"2126480030009879160\",\n            'f': \"2126480030009879160\",\n        }],\n [{\n            'v': 4,\n            'f': \"4\",\n        },\n{\n            'v': 7.31273323054,\n            'f': \"7.31273323054\",\n        },\ntrue,\n{\n            'v': 32,\n            'f': \"32\",\n        },\n{\n            'v': 1,\n            'f': \"1\",\n        },\n{\n            'v': 40.0,\n            'f': \"40.0\",\n        },\n{\n            'v': \"3408502330831153141\",\n            'f': \"3408502330831153141\",\n        }]],\n        columns: [[\"number\", \"index\"], [\"number\", \"weight_pounds\"], [\"string\", \"is_male\"], [\"number\", \"mother_age\"], [\"number\", \"plurality\"], [\"number\", \"gestation_weeks\"], [\"number\", \"hashmonth\"]],\n        columnOptions: [{\"width\": \"1px\", \"className\": \"index_column\"}],\n        rowsPerPage: 25,\n        helpUrl: \"https://colab.research.google.com/notebooks/data_table.ipynb\",\n      });\n    ",
            "text/html": [
              "<div>\n",
              "<style scoped>\n",
              "    .dataframe tbody tr th:only-of-type {\n",
              "        vertical-align: middle;\n",
              "    }\n",
              "\n",
              "    .dataframe tbody tr th {\n",
              "        vertical-align: top;\n",
              "    }\n",
              "\n",
              "    .dataframe thead th {\n",
              "        text-align: right;\n",
              "    }\n",
              "</style>\n",
              "<table border=\"1\" class=\"dataframe\">\n",
              "  <thead>\n",
              "    <tr style=\"text-align: right;\">\n",
              "      <th></th>\n",
              "      <th>weight_pounds</th>\n",
              "      <th>is_male</th>\n",
              "      <th>mother_age</th>\n",
              "      <th>plurality</th>\n",
              "      <th>gestation_weeks</th>\n",
              "      <th>hashmonth</th>\n",
              "    </tr>\n",
              "  </thead>\n",
              "  <tbody>\n",
              "    <tr>\n",
              "      <th>0</th>\n",
              "      <td>7.063611</td>\n",
              "      <td>True</td>\n",
              "      <td>32</td>\n",
              "      <td>1</td>\n",
              "      <td>37.0</td>\n",
              "      <td>7108882242435606404</td>\n",
              "    </tr>\n",
              "    <tr>\n",
              "      <th>1</th>\n",
              "      <td>4.687028</td>\n",
              "      <td>True</td>\n",
              "      <td>30</td>\n",
              "      <td>3</td>\n",
              "      <td>33.0</td>\n",
              "      <td>7170969733900686954</td>\n",
              "    </tr>\n",
              "    <tr>\n",
              "      <th>2</th>\n",
              "      <td>7.561856</td>\n",
              "      <td>True</td>\n",
              "      <td>20</td>\n",
              "      <td>1</td>\n",
              "      <td>39.0</td>\n",
              "      <td>6392072535155213407</td>\n",
              "    </tr>\n",
              "    <tr>\n",
              "      <th>3</th>\n",
              "      <td>7.561856</td>\n",
              "      <td>True</td>\n",
              "      <td>31</td>\n",
              "      <td>1</td>\n",
              "      <td>37.0</td>\n",
              "      <td>2126480030009879160</td>\n",
              "    </tr>\n",
              "    <tr>\n",
              "      <th>4</th>\n",
              "      <td>7.312733</td>\n",
              "      <td>True</td>\n",
              "      <td>32</td>\n",
              "      <td>1</td>\n",
              "      <td>40.0</td>\n",
              "      <td>3408502330831153141</td>\n",
              "    </tr>\n",
              "  </tbody>\n",
              "</table>\n",
              "</div>"
            ],
            "text/plain": [
              "   weight_pounds  is_male  ...  gestation_weeks            hashmonth\n",
              "0       7.063611     True  ...             37.0  7108882242435606404\n",
              "1       4.687028     True  ...             33.0  7170969733900686954\n",
              "2       7.561856     True  ...             39.0  6392072535155213407\n",
              "3       7.561856     True  ...             37.0  2126480030009879160\n",
              "4       7.312733     True  ...             40.0  3408502330831153141\n",
              "\n",
              "[5 rows x 6 columns]"
            ]
          },
          "metadata": {
            "tags": []
          },
          "execution_count": 6
        }
      ]
    },
    {
      "cell_type": "markdown",
      "metadata": {
        "id": "812B78pVBz_8",
        "colab_type": "text"
      },
      "source": [
        "#### Take a look at the relationship between \"gender\", \"number_of_babies\" and \"average weight\""
      ]
    },
    {
      "cell_type": "code",
      "metadata": {
        "id": "R6JpuAegBw5z",
        "colab_type": "code",
        "colab": {}
      },
      "source": [
        "query = \"\"\"\n",
        "SELECT\n",
        "    is_male,\n",
        "    COUNT(0) AS num_babies,\n",
        "    AVG(weight_pounds) AS avg_wt\n",
        "FROM\n",
        "    publicdata.samples.natality\n",
        "WHERE\n",
        "    year>2000\n",
        "GROUP BY\n",
        "    is_male\n",
        "\"\"\"\n",
        "df = bigquery.Client().query(query + \" LIMIT 100\").to_dataframe()\n",
        "df.head()"
      ],
      "execution_count": 0,
      "outputs": []
    },
    {
      "cell_type": "markdown",
      "metadata": {
        "id": "4zD42ZD2BMgg",
        "colab_type": "text"
      },
      "source": [
        "\t\tis_male\tnum_babies\tavg_wt\n",
        "\t0\tFalse\t 16245054\t  7.104715\n",
        "\t1\tTrue\t  17026860\t  7.349797"
      ]
    },
    {
      "cell_type": "code",
      "metadata": {
        "id": "DKiBjOMY--Eb",
        "colab_type": "code",
        "colab": {}
      },
      "source": [
        "# plot and see the corelation of our target(\"weight_pounds\") with other features\n",
        "\n",
        "df.plot(x='is_male', y='num_babies', logy=True, kind='bar');\n",
        "df.plot(x='is_male', y='avg_wt', kind='bar');"
      ],
      "execution_count": 0,
      "outputs": []
    }
  ]
}