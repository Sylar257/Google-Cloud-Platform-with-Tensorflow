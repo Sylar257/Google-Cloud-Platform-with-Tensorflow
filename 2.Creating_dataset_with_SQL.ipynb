{
  "nbformat": 4,
  "nbformat_minor": 0,
  "metadata": {
    "colab": {
      "name": "Creating dataset with SQL.ipynb",
      "provenance": [],
      "collapsed_sections": [],
      "include_colab_link": true
    },
    "kernelspec": {
      "name": "python3",
      "display_name": "Python 3"
    }
  },
  "cells": [
    {
      "cell_type": "markdown",
      "metadata": {
        "id": "view-in-github",
        "colab_type": "text"
      },
      "source": [
        "<a href=\"https://colab.research.google.com/github/Sylar257/Google-Cloud-Platform-with-Tensorflow/blob/master/Creating_dataset_with_SQL.ipynb\" target=\"_parent\"><img src=\"https://colab.research.google.com/assets/colab-badge.svg\" alt=\"Open In Colab\"/></a>"
      ]
    },
    {
      "cell_type": "markdown",
      "metadata": {
        "id": "rqmbx2r77YtO",
        "colab_type": "text"
      },
      "source": [
        "These code suppose to be run in a GCP instance. The instructions to set up such a instance\n",
        "is documented in the *README* [file](https://github.com/Sylar257/Google-Cloud-Platform-with-Tensorflow/blob/master/READNE.md) of thie Repo."
      ]
    },
    {
      "cell_type": "markdown",
      "metadata": {
        "id": "8PGXEJEF98Qs",
        "colab_type": "text"
      },
      "source": [
        "## Creating data with SQL\n",
        "In this notebook, we will be creating our dataset on a *natality* dataset from google *BigQuery*"
      ]
    },
    {
      "cell_type": "code",
      "metadata": {
        "id": "BVrqIxSt9ZZo",
        "colab_type": "code",
        "colab": {}
      },
      "source": [
        "# change these to try this notebook out\n",
        "BUCKET = 'example_bucket_26_11'      # CHANGE this to a globally unique value. Your project name is a good option to try.\n",
        "PROJECT = 'qwiklabs-gcp-00-09dd6f655043'     # CHANGE this to your project name\n",
        "REGION = 'australia-southeast1-a'    # CHANGE this to one of the regions supported by Cloud AI Platform https://cloud.google.com/ml-engine/docs/tensorflow/regions"
      ],
      "execution_count": 0,
      "outputs": []
    },
    {
      "cell_type": "code",
      "metadata": {
        "id": "K5ljvSz192lx",
        "colab_type": "code",
        "colab": {}
      },
      "source": [
        "import os\n",
        "os.environ['BUCKET'] = BUCKET\n",
        "os.environ['PROJECT'] = PROJECT\n",
        "os.environ['REGION'] = REGION\n",
        "\n",
        "# The following connects the BUCKET, PRIJECT and the workspace\n",
        "# If BUCKET do not already exist, one will be created with default settings\n",
        "%%bash\n",
        "if ! gsutil ls | grep -q gs://${BUCKET}/; then\n",
        "  gsutil mb -l ${REGION} gs://${BUCKET}\n",
        "fi"
      ],
      "execution_count": 0,
      "outputs": []
    },
    {
      "cell_type": "markdown",
      "metadata": {
        "id": "Vu7shHWy936j",
        "colab_type": "text"
      },
      "source": [
        "### Loading the data\n",
        "Use **SQL** query to access the natality data(\"LIMIT 1000\"), and create a **`Pandas` dataframe** to contain our query data.<br>\n",
        "The data is natality data (record of births in the US). My goal is to predict the baby's weight given a number of factors about the pregnancy and the baby's mother. Later, we will want to split the data into training and eval datasets. The hash of the year-month will be used for that -- this way, twins born on the same day won't end up in different cuts of the data."
      ]
    },
    {
      "cell_type": "code",
      "metadata": {
        "id": "o0QMGmOFKH5u",
        "colab_type": "code",
        "outputId": "40fec1b3-50e8-43d2-9596-d984d781a0bc",
        "colab": {
          "base_uri": "https://localhost:8080/",
          "height": 34
        }
      },
      "source": [
        "# Folllowing three lines of code allows you to run it within colab as well\n",
        "from google.colab import auth\n",
        "auth.authenticate_user()\n",
        "print('Authenticated')\n"
      ],
      "execution_count": 1,
      "outputs": [
        {
          "output_type": "stream",
          "text": [
            "Authenticated\n"
          ],
          "name": "stdout"
        }
      ]
    },
    {
      "cell_type": "code",
      "metadata": {
        "id": "0qfd1EduKTIi",
        "colab_type": "code",
        "colab": {}
      },
      "source": [
        "%load_ext google.colab.data_table"
      ],
      "execution_count": 0,
      "outputs": []
    },
    {
      "cell_type": "code",
      "metadata": {
        "id": "14zk2ZlLKSby",
        "colab_type": "code",
        "colab": {}
      },
      "source": [
        "project_id = 'qwiklabs-gcp-00-b77bc3fac9b7'\n",
        "from google.cloud import bigquery\n"
      ],
      "execution_count": 0,
      "outputs": []
    },
    {
      "cell_type": "code",
      "metadata": {
        "id": "lTMgJkDA-NRj",
        "colab_type": "code",
        "outputId": "0712a7d3-4a0f-4cd2-b05f-db8830f99eb9",
        "colab": {
          "base_uri": "https://localhost:8080/",
          "height": 200
        }
      },
      "source": [
        "import pandas as pd\n",
        "# This is what we have from the last time\n",
        "query = \"\"\"\n",
        "SELECT\n",
        "  weight_pounds,\n",
        "  is_male,\n",
        "  mother_age,\n",
        "  plurality,\n",
        "  gestation_weeks,\n",
        "  YEAR,\n",
        "  ABS(FARM_FINGERPRINT(CONCAT(CAST(YEAR AS STRING), CAST(month AS STRING)))) AS hashmonth\n",
        "FROM\n",
        "  publicdata.samples.natality\n",
        "WHERE year > 2000\n",
        "LIMIT 2000\n",
        "\"\"\"\n",
        "\n",
        "df = pd.io.gbq.read_gbq(query, project_id=project_id, dialect='standard')\n",
        "\n",
        "df.head()"
      ],
      "execution_count": 11,
      "outputs": [
        {
          "output_type": "execute_result",
          "data": {
            "application/vnd.google.colaboratory.module+javascript": "\n      import \"https://ssl.gstatic.com/colaboratory/data_table/9e554b27bdd509f3/data_table.js\";\n\n      window.createDataTable({\n        data: [[{\n            'v': 0,\n            'f': \"0\",\n        },\n{\n            'v': 7.06361087448,\n            'f': \"7.06361087448\",\n        },\ntrue,\n{\n            'v': 32,\n            'f': \"32\",\n        },\n{\n            'v': 1,\n            'f': \"1\",\n        },\n{\n            'v': 37.0,\n            'f': \"37.0\",\n        },\n{\n            'v': 2001,\n            'f': \"2001\",\n        },\n{\n            'v': \"7108882242435606404\",\n            'f': \"7108882242435606404\",\n        }],\n [{\n            'v': 1,\n            'f': \"1\",\n        },\n{\n            'v': 4.68702769012,\n            'f': \"4.68702769012\",\n        },\ntrue,\n{\n            'v': 30,\n            'f': \"30\",\n        },\n{\n            'v': 3,\n            'f': \"3\",\n        },\n{\n            'v': 33.0,\n            'f': \"33.0\",\n        },\n{\n            'v': 2001,\n            'f': \"2001\",\n        },\n{\n            'v': \"7170969733900686954\",\n            'f': \"7170969733900686954\",\n        }],\n [{\n            'v': 2,\n            'f': \"2\",\n        },\n{\n            'v': 7.5618555866,\n            'f': \"7.5618555866\",\n        },\ntrue,\n{\n            'v': 20,\n            'f': \"20\",\n        },\n{\n            'v': 1,\n            'f': \"1\",\n        },\n{\n            'v': 39.0,\n            'f': \"39.0\",\n        },\n{\n            'v': 2001,\n            'f': \"2001\",\n        },\n{\n            'v': \"6392072535155213407\",\n            'f': \"6392072535155213407\",\n        }],\n [{\n            'v': 3,\n            'f': \"3\",\n        },\n{\n            'v': 7.5618555866,\n            'f': \"7.5618555866\",\n        },\ntrue,\n{\n            'v': 31,\n            'f': \"31\",\n        },\n{\n            'v': 1,\n            'f': \"1\",\n        },\n{\n            'v': 37.0,\n            'f': \"37.0\",\n        },\n{\n            'v': 2001,\n            'f': \"2001\",\n        },\n{\n            'v': \"2126480030009879160\",\n            'f': \"2126480030009879160\",\n        }],\n [{\n            'v': 4,\n            'f': \"4\",\n        },\n{\n            'v': 7.31273323054,\n            'f': \"7.31273323054\",\n        },\ntrue,\n{\n            'v': 32,\n            'f': \"32\",\n        },\n{\n            'v': 1,\n            'f': \"1\",\n        },\n{\n            'v': 40.0,\n            'f': \"40.0\",\n        },\n{\n            'v': 2001,\n            'f': \"2001\",\n        },\n{\n            'v': \"3408502330831153141\",\n            'f': \"3408502330831153141\",\n        }]],\n        columns: [[\"number\", \"index\"], [\"number\", \"weight_pounds\"], [\"string\", \"is_male\"], [\"number\", \"mother_age\"], [\"number\", \"plurality\"], [\"number\", \"gestation_weeks\"], [\"number\", \"YEAR\"], [\"number\", \"hashmonth\"]],\n        columnOptions: [{\"width\": \"1px\", \"className\": \"index_column\"}],\n        rowsPerPage: 25,\n        helpUrl: \"https://colab.research.google.com/notebooks/data_table.ipynb\",\n      });\n    ",
            "text/html": [
              "<div>\n",
              "<style scoped>\n",
              "    .dataframe tbody tr th:only-of-type {\n",
              "        vertical-align: middle;\n",
              "    }\n",
              "\n",
              "    .dataframe tbody tr th {\n",
              "        vertical-align: top;\n",
              "    }\n",
              "\n",
              "    .dataframe thead th {\n",
              "        text-align: right;\n",
              "    }\n",
              "</style>\n",
              "<table border=\"1\" class=\"dataframe\">\n",
              "  <thead>\n",
              "    <tr style=\"text-align: right;\">\n",
              "      <th></th>\n",
              "      <th>weight_pounds</th>\n",
              "      <th>is_male</th>\n",
              "      <th>mother_age</th>\n",
              "      <th>plurality</th>\n",
              "      <th>gestation_weeks</th>\n",
              "      <th>YEAR</th>\n",
              "      <th>hashmonth</th>\n",
              "    </tr>\n",
              "  </thead>\n",
              "  <tbody>\n",
              "    <tr>\n",
              "      <th>0</th>\n",
              "      <td>7.063611</td>\n",
              "      <td>True</td>\n",
              "      <td>32</td>\n",
              "      <td>1</td>\n",
              "      <td>37.0</td>\n",
              "      <td>2001</td>\n",
              "      <td>7108882242435606404</td>\n",
              "    </tr>\n",
              "    <tr>\n",
              "      <th>1</th>\n",
              "      <td>4.687028</td>\n",
              "      <td>True</td>\n",
              "      <td>30</td>\n",
              "      <td>3</td>\n",
              "      <td>33.0</td>\n",
              "      <td>2001</td>\n",
              "      <td>7170969733900686954</td>\n",
              "    </tr>\n",
              "    <tr>\n",
              "      <th>2</th>\n",
              "      <td>7.561856</td>\n",
              "      <td>True</td>\n",
              "      <td>20</td>\n",
              "      <td>1</td>\n",
              "      <td>39.0</td>\n",
              "      <td>2001</td>\n",
              "      <td>6392072535155213407</td>\n",
              "    </tr>\n",
              "    <tr>\n",
              "      <th>3</th>\n",
              "      <td>7.561856</td>\n",
              "      <td>True</td>\n",
              "      <td>31</td>\n",
              "      <td>1</td>\n",
              "      <td>37.0</td>\n",
              "      <td>2001</td>\n",
              "      <td>2126480030009879160</td>\n",
              "    </tr>\n",
              "    <tr>\n",
              "      <th>4</th>\n",
              "      <td>7.312733</td>\n",
              "      <td>True</td>\n",
              "      <td>32</td>\n",
              "      <td>1</td>\n",
              "      <td>40.0</td>\n",
              "      <td>2001</td>\n",
              "      <td>3408502330831153141</td>\n",
              "    </tr>\n",
              "  </tbody>\n",
              "</table>\n",
              "</div>"
            ],
            "text/plain": [
              "   weight_pounds  is_male  ...  YEAR            hashmonth\n",
              "0       7.063611     True  ...  2001  7108882242435606404\n",
              "1       4.687028     True  ...  2001  7170969733900686954\n",
              "2       7.561856     True  ...  2001  6392072535155213407\n",
              "3       7.561856     True  ...  2001  2126480030009879160\n",
              "4       7.312733     True  ...  2001  3408502330831153141\n",
              "\n",
              "[5 rows x 7 columns]"
            ]
          },
          "metadata": {
            "tags": []
          },
          "execution_count": 11
        }
      ]
    },
    {
      "cell_type": "markdown",
      "metadata": {
        "id": "KUOg3hY4BarH",
        "colab_type": "text"
      },
      "source": [
        "#### `FARM_FINGERPRINT(value)`\n",
        "\n",
        "This is a **Hash Function** in SQL that takes in a value(such as a *date* or a *string*) and computes the *fingerprint* of it(output format is **hashed numeric type**. *The output of this function for a particular input will never change*. Which means, `FARM_FINGERPRINT('26-jan-2012')` is always going to return the same value whenever we call.(and it’s different from calling on all other values)"
      ]
    },
    {
      "cell_type": "code",
      "metadata": {
        "id": "uOEY21t7CTEU",
        "colab_type": "code",
        "colab": {
          "base_uri": "https://localhost:8080/",
          "height": 205
        },
        "outputId": "464a0c66-b0f8-40ba-d519-14fd2bd4cbd8"
      },
      "source": [
        "# Let's create a query that all the babies born in the same month are put in the same bracket\n",
        "# In addition, remove \"LIMIT 2000\" to have the entire dataset\n",
        "query = \"\"\"\n",
        "SELECT\n",
        "  weight_pounds,\n",
        "  is_male,\n",
        "  mother_age,\n",
        "  plurality,\n",
        "  gestation_weeks,\n",
        "  ABS(FARM_FINGERPRINT(CONCAT(CAST(YEAR AS STRING), CAST(month AS STRING)))) AS hashmonth\n",
        "FROM\n",
        "  publicdata.samples.natality\n",
        "WHERE year > 2000\n",
        "\"\"\"\n",
        "\n",
        "\n",
        "df = pd.io.gbq.read_gbq(\"SELECT hashmonth, COUNT(weight_pounds) AS num_babies FROM (\" + query + \") GROUP BY hashmonth\",\n",
        "                         project_id=project_id,\n",
        "                         dialect='standard')\n",
        "print(\"There are {} unique hashmonths between year 2000 and 2008.\".format(len(df)))\n",
        "df.head()"
      ],
      "execution_count": 17,
      "outputs": [
        {
          "output_type": "stream",
          "text": [
            "There are 96 unique hashmonths between year 2000 and 2008.\n"
          ],
          "name": "stdout"
        },
        {
          "output_type": "execute_result",
          "data": {
            "application/vnd.google.colaboratory.module+javascript": "\n      import \"https://ssl.gstatic.com/colaboratory/data_table/9e554b27bdd509f3/data_table.js\";\n\n      window.createDataTable({\n        data: [[{\n            'v': 0,\n            'f': \"0\",\n        },\n{\n            'v': \"8904940584331855459\",\n            'f': \"8904940584331855459\",\n        },\n{\n            'v': 344191,\n            'f': \"344191\",\n        }],\n [{\n            'v': 1,\n            'f': \"1\",\n        },\n{\n            'v': \"2126480030009879160\",\n            'f': \"2126480030009879160\",\n        },\n{\n            'v': 344357,\n            'f': \"344357\",\n        }],\n [{\n            'v': 2,\n            'f': \"2\",\n        },\n{\n            'v': \"6691862025345277042\",\n            'f': \"6691862025345277042\",\n        },\n{\n            'v': 338820,\n            'f': \"338820\",\n        }],\n [{\n            'v': 3,\n            'f': \"3\",\n        },\n{\n            'v': \"5934265245228309013\",\n            'f': \"5934265245228309013\",\n        },\n{\n            'v': 324598,\n            'f': \"324598\",\n        }],\n [{\n            'v': 4,\n            'f': \"4\",\n        },\n{\n            'v': \"2995620979373137889\",\n            'f': \"2995620979373137889\",\n        },\n{\n            'v': 354257,\n            'f': \"354257\",\n        }]],\n        columns: [[\"number\", \"index\"], [\"number\", \"hashmonth\"], [\"number\", \"num_babies\"]],\n        columnOptions: [{\"width\": \"1px\", \"className\": \"index_column\"}],\n        rowsPerPage: 25,\n        helpUrl: \"https://colab.research.google.com/notebooks/data_table.ipynb\",\n      });\n    ",
            "text/html": [
              "<div>\n",
              "<style scoped>\n",
              "    .dataframe tbody tr th:only-of-type {\n",
              "        vertical-align: middle;\n",
              "    }\n",
              "\n",
              "    .dataframe tbody tr th {\n",
              "        vertical-align: top;\n",
              "    }\n",
              "\n",
              "    .dataframe thead th {\n",
              "        text-align: right;\n",
              "    }\n",
              "</style>\n",
              "<table border=\"1\" class=\"dataframe\">\n",
              "  <thead>\n",
              "    <tr style=\"text-align: right;\">\n",
              "      <th></th>\n",
              "      <th>hashmonth</th>\n",
              "      <th>num_babies</th>\n",
              "    </tr>\n",
              "  </thead>\n",
              "  <tbody>\n",
              "    <tr>\n",
              "      <th>0</th>\n",
              "      <td>8904940584331855459</td>\n",
              "      <td>344191</td>\n",
              "    </tr>\n",
              "    <tr>\n",
              "      <th>1</th>\n",
              "      <td>2126480030009879160</td>\n",
              "      <td>344357</td>\n",
              "    </tr>\n",
              "    <tr>\n",
              "      <th>2</th>\n",
              "      <td>6691862025345277042</td>\n",
              "      <td>338820</td>\n",
              "    </tr>\n",
              "    <tr>\n",
              "      <th>3</th>\n",
              "      <td>5934265245228309013</td>\n",
              "      <td>324598</td>\n",
              "    </tr>\n",
              "    <tr>\n",
              "      <th>4</th>\n",
              "      <td>2995620979373137889</td>\n",
              "      <td>354257</td>\n",
              "    </tr>\n",
              "  </tbody>\n",
              "</table>\n",
              "</div>"
            ],
            "text/plain": [
              "             hashmonth  num_babies\n",
              "0  8904940584331855459      344191\n",
              "1  2126480030009879160      344357\n",
              "2  6691862025345277042      338820\n",
              "3  5934265245228309013      324598\n",
              "4  2995620979373137889      354257"
            ]
          },
          "metadata": {
            "tags": []
          },
          "execution_count": 17
        }
      ]
    },
    {
      "cell_type": "markdown",
      "metadata": {
        "id": "OYX9MKPRCT-a",
        "colab_type": "text"
      },
      "source": [
        "#### `RAND() < value`\n",
        "The `RAND()` will generate a random number between `0` and `1` each time, and we are only keeping the query data if the value is smaller than 0.01 which means it’s a 1% chance. Hence, we are getting 1% of the entire dataset."
      ]
    },
    {
      "cell_type": "code",
      "metadata": {
        "id": "eXH1AFP3CT7k",
        "colab_type": "code",
        "colab": {
          "base_uri": "https://localhost:8080/",
          "height": 54
        },
        "outputId": "79d7a62e-109c-4977-d532-90c671180be3"
      },
      "source": [
        "# In addition, the entire dataset is shrinked to 0.5% of the total volume(randomly)\n",
        "# Get 3/4 of the randomly shinked dataset into trainset.\n",
        "\n",
        "trainQuery = \"SELECT * FROM(\"+ query +\") WHERE MOD(hashmonth,10)<8 AND RAND() < 0.0005\"\n",
        "\n",
        "# Get the rest of 1/4 of the randomly shinked dataset into evalset\n",
        "evalQuery  = \"SELECT * FROM(\"+ query +\") WHERE MOD(hashmonth,10)>=8 AND RAND() < 0.0005\"\n",
        "\n",
        "# create training and eval dataframe\n",
        "traindf = pd.io.gbq.read_gbq(trainQuery, project_id=project_id, dialect='standard')\n",
        "evaldf  = pd.io.gbq.read_gbq(evalQuery, project_id=project_id, dialect='standard')\n",
        "\n",
        "print(\"There are {} examples in the train dataset and {} in the eval dataset\".format(len(traindf), len(evaldf)))"
      ],
      "execution_count": 26,
      "outputs": [
        {
          "output_type": "stream",
          "text": [
            "There are 13485 examples in the train dataset and 2998 in the eval dataset\n"
          ],
          "name": "stdout"
        }
      ]
    },
    {
      "cell_type": "code",
      "metadata": {
        "id": "dpjTbcwMCT5n",
        "colab_type": "code",
        "colab": {
          "base_uri": "https://localhost:8080/",
          "height": 34
        },
        "outputId": "409de4f3-836a-4e59-8536-02a74860a7cf"
      },
      "source": [
        "# Note that the ratio of len(trainset)/len(evalset) might not be exactly 8/2\n",
        "# This is because of the mechanism of RAND()\n",
        "\n",
        "13485/2998"
      ],
      "execution_count": 27,
      "outputs": [
        {
          "output_type": "execute_result",
          "data": {
            "text/plain": [
              "4.497998665777184"
            ]
          },
          "metadata": {
            "tags": []
          },
          "execution_count": 27
        }
      ]
    },
    {
      "cell_type": "markdown",
      "metadata": {
        "id": "_IHdeNjGCT2q",
        "colab_type": "text"
      },
      "source": [
        "## Data Preprocessing with Pandas\n",
        "**Removing** `nan`s, column with invalid data and create a masked version data where we revome the information that has to be obtained from an ultrasound.<br>\n",
        "This was because in the real case, the ultrasound information may or may not be available to our model. Hence, a robust ML model should\n",
        "be able a good prediction with or without the ultrasound info.<br>\n",
        "To tackle this, we duplicate our original dataframe and **mask** in `is_male` info and `plurality` info."
      ]
    },
    {
      "cell_type": "code",
      "metadata": {
        "id": "07XiSl5jCTym",
        "colab_type": "code",
        "colab": {
          "base_uri": "https://localhost:8080/",
          "height": 200
        },
        "outputId": "591b6b2f-9f58-4fc4-f317-e9aca3e185d7"
      },
      "source": [
        "traindf.head()"
      ],
      "execution_count": 29,
      "outputs": [
        {
          "output_type": "execute_result",
          "data": {
            "application/vnd.google.colaboratory.module+javascript": "\n      import \"https://ssl.gstatic.com/colaboratory/data_table/9e554b27bdd509f3/data_table.js\";\n\n      window.createDataTable({\n        data: [[{\n            'v': 0,\n            'f': \"0\",\n        },\n{\n            'v': 7.50012615324,\n            'f': \"7.50012615324\",\n        },\nfalse,\n{\n            'v': 19,\n            'f': \"19\",\n        },\n{\n            'v': 1,\n            'f': \"1\",\n        },\n{\n            'v': 40.0,\n            'f': \"40.0\",\n        },\n{\n            'v': \"774501970389208065\",\n            'f': \"774501970389208065\",\n        }],\n [{\n            'v': 1,\n            'f': \"1\",\n        },\n{\n            'v': 8.22103774998,\n            'f': \"8.22103774998\",\n        },\nfalse,\n{\n            'v': 22,\n            'f': \"22\",\n        },\n{\n            'v': 1,\n            'f': \"1\",\n        },\n{\n            'v': 35.0,\n            'f': \"35.0\",\n        },\n{\n            'v': \"774501970389208065\",\n            'f': \"774501970389208065\",\n        }],\n [{\n            'v': 2,\n            'f': \"2\",\n        },\n{\n            'v': 6.6579603124,\n            'f': \"6.6579603124\",\n        },\nfalse,\n{\n            'v': 25,\n            'f': \"25\",\n        },\n{\n            'v': 1,\n            'f': \"1\",\n        },\n{\n            'v': 40.0,\n            'f': \"40.0\",\n        },\n{\n            'v': \"774501970389208065\",\n            'f': \"774501970389208065\",\n        }],\n [{\n            'v': 3,\n            'f': \"3\",\n        },\n{\n            'v': 6.8122838958,\n            'f': \"6.8122838958\",\n        },\ntrue,\n{\n            'v': 32,\n            'f': \"32\",\n        },\n{\n            'v': 2,\n            'f': \"2\",\n        },\n{\n            'v': 36.0,\n            'f': \"36.0\",\n        },\n{\n            'v': \"774501970389208065\",\n            'f': \"774501970389208065\",\n        }],\n [{\n            'v': 4,\n            'f': \"4\",\n        },\n{\n            'v': 6.93794738514,\n            'f': \"6.93794738514\",\n        },\nfalse,\n{\n            'v': 35,\n            'f': \"35\",\n        },\n{\n            'v': 1,\n            'f': \"1\",\n        },\n{\n            'v': 39.0,\n            'f': \"39.0\",\n        },\n{\n            'v': \"774501970389208065\",\n            'f': \"774501970389208065\",\n        }]],\n        columns: [[\"number\", \"index\"], [\"number\", \"weight_pounds\"], [\"string\", \"is_male\"], [\"number\", \"mother_age\"], [\"number\", \"plurality\"], [\"number\", \"gestation_weeks\"], [\"number\", \"hashmonth\"]],\n        columnOptions: [{\"width\": \"1px\", \"className\": \"index_column\"}],\n        rowsPerPage: 25,\n        helpUrl: \"https://colab.research.google.com/notebooks/data_table.ipynb\",\n      });\n    ",
            "text/html": [
              "<div>\n",
              "<style scoped>\n",
              "    .dataframe tbody tr th:only-of-type {\n",
              "        vertical-align: middle;\n",
              "    }\n",
              "\n",
              "    .dataframe tbody tr th {\n",
              "        vertical-align: top;\n",
              "    }\n",
              "\n",
              "    .dataframe thead th {\n",
              "        text-align: right;\n",
              "    }\n",
              "</style>\n",
              "<table border=\"1\" class=\"dataframe\">\n",
              "  <thead>\n",
              "    <tr style=\"text-align: right;\">\n",
              "      <th></th>\n",
              "      <th>weight_pounds</th>\n",
              "      <th>is_male</th>\n",
              "      <th>mother_age</th>\n",
              "      <th>plurality</th>\n",
              "      <th>gestation_weeks</th>\n",
              "      <th>hashmonth</th>\n",
              "    </tr>\n",
              "  </thead>\n",
              "  <tbody>\n",
              "    <tr>\n",
              "      <th>0</th>\n",
              "      <td>7.500126</td>\n",
              "      <td>False</td>\n",
              "      <td>19</td>\n",
              "      <td>1</td>\n",
              "      <td>40.0</td>\n",
              "      <td>774501970389208065</td>\n",
              "    </tr>\n",
              "    <tr>\n",
              "      <th>1</th>\n",
              "      <td>8.221038</td>\n",
              "      <td>False</td>\n",
              "      <td>22</td>\n",
              "      <td>1</td>\n",
              "      <td>35.0</td>\n",
              "      <td>774501970389208065</td>\n",
              "    </tr>\n",
              "    <tr>\n",
              "      <th>2</th>\n",
              "      <td>6.657960</td>\n",
              "      <td>False</td>\n",
              "      <td>25</td>\n",
              "      <td>1</td>\n",
              "      <td>40.0</td>\n",
              "      <td>774501970389208065</td>\n",
              "    </tr>\n",
              "    <tr>\n",
              "      <th>3</th>\n",
              "      <td>6.812284</td>\n",
              "      <td>True</td>\n",
              "      <td>32</td>\n",
              "      <td>2</td>\n",
              "      <td>36.0</td>\n",
              "      <td>774501970389208065</td>\n",
              "    </tr>\n",
              "    <tr>\n",
              "      <th>4</th>\n",
              "      <td>6.937947</td>\n",
              "      <td>False</td>\n",
              "      <td>35</td>\n",
              "      <td>1</td>\n",
              "      <td>39.0</td>\n",
              "      <td>774501970389208065</td>\n",
              "    </tr>\n",
              "  </tbody>\n",
              "</table>\n",
              "</div>"
            ],
            "text/plain": [
              "   weight_pounds  is_male  ...  gestation_weeks           hashmonth\n",
              "0       7.500126    False  ...             40.0  774501970389208065\n",
              "1       8.221038    False  ...             35.0  774501970389208065\n",
              "2       6.657960    False  ...             40.0  774501970389208065\n",
              "3       6.812284     True  ...             36.0  774501970389208065\n",
              "4       6.937947    False  ...             39.0  774501970389208065\n",
              "\n",
              "[5 rows x 6 columns]"
            ]
          },
          "metadata": {
            "tags": []
          },
          "execution_count": 29
        }
      ]
    },
    {
      "cell_type": "code",
      "metadata": {
        "id": "BOFRNrSrCTvg",
        "colab_type": "code",
        "colab": {
          "base_uri": "https://localhost:8080/",
          "height": 260
        },
        "outputId": "3bbe2655-1d7d-47d8-9a43-b57b46f09799"
      },
      "source": [
        "traindf.describe()"
      ],
      "execution_count": 30,
      "outputs": [
        {
          "output_type": "execute_result",
          "data": {
            "application/vnd.google.colaboratory.module+javascript": "\n      import \"https://ssl.gstatic.com/colaboratory/data_table/9e554b27bdd509f3/data_table.js\";\n\n      window.createDataTable({\n        data: [[\"count\",\n{\n            'v': 13471.0,\n            'f': \"13471.0\",\n        },\n{\n            'v': 13485.0,\n            'f': \"13485.0\",\n        },\n{\n            'v': 13485.0,\n            'f': \"13485.0\",\n        },\n{\n            'v': 13386.0,\n            'f': \"13386.0\",\n        },\n{\n            'v': 13485.0,\n            'f': \"13485.0\",\n        }],\n [\"mean\",\n{\n            'v': 7.237199498065385,\n            'f': \"7.237199498065385\",\n        },\n{\n            'v': 27.404226918798667,\n            'f': \"27.404226918798667\",\n        },\n{\n            'v': 1.03559510567297,\n            'f': \"1.03559510567297\",\n        },\n{\n            'v': 38.60092634095324,\n            'f': \"38.60092634095324\",\n        },\n{\n            'v': 4.3684216950353295e+18,\n            'f': \"4.3684216950353295e+18\",\n        }],\n [\"std\",\n{\n            'v': 1.3206090159552522,\n            'f': \"1.3206090159552522\",\n        },\n{\n            'v': 6.163460854764883,\n            'f': \"6.163460854764883\",\n        },\n{\n            'v': 0.1954151027704044,\n            'f': \"0.1954151027704044\",\n        },\n{\n            'v': 2.5540134246478328,\n            'f': \"2.5540134246478328\",\n        },\n{\n            'v': 2.807565021093128e+18,\n            'f': \"2.807565021093128e+18\",\n        }],\n [\"min\",\n{\n            'v': 0.5621787681,\n            'f': \"0.5621787681\",\n        },\n{\n            'v': 13.0,\n            'f': \"13.0\",\n        },\n{\n            'v': 1.0,\n            'f': \"1.0\",\n        },\n{\n            'v': 18.0,\n            'f': \"18.0\",\n        },\n{\n            'v': 7.493146549692749e+16,\n            'f': \"7.493146549692749e+16\",\n        }],\n [\"25%\",\n{\n            'v': 6.56316153974,\n            'f': \"6.56316153974\",\n        },\n{\n            'v': 22.0,\n            'f': \"22.0\",\n        },\n{\n            'v': 1.0,\n            'f': \"1.0\",\n        },\n{\n            'v': 38.0,\n            'f': \"38.0\",\n        },\n{\n            'v': 1.6391862559339901e+18,\n            'f': \"1.6391862559339901e+18\",\n        }],\n [\"50%\",\n{\n            'v': 7.31273323054,\n            'f': \"7.31273323054\",\n        },\n{\n            'v': 27.0,\n            'f': \"27.0\",\n        },\n{\n            'v': 1.0,\n            'f': \"1.0\",\n        },\n{\n            'v': 39.0,\n            'f': \"39.0\",\n        },\n{\n            'v': 4.329667052416033e+18,\n            'f': \"4.329667052416033e+18\",\n        }],\n [\"75%\",\n{\n            'v': 8.062304921339999,\n            'f': \"8.062304921339999\",\n        },\n{\n            'v': 32.0,\n            'f': \"32.0\",\n        },\n{\n            'v': 1.0,\n            'f': \"1.0\",\n        },\n{\n            'v': 40.0,\n            'f': \"40.0\",\n        },\n{\n            'v': 6.888635180361965e+18,\n            'f': \"6.888635180361965e+18\",\n        }],\n [\"max\",\n{\n            'v': 12.561939688759999,\n            'f': \"12.561939688759999\",\n        },\n{\n            'v': 49.0,\n            'f': \"49.0\",\n        },\n{\n            'v': 4.0,\n            'f': \"4.0\",\n        },\n{\n            'v': 47.0,\n            'f': \"47.0\",\n        },\n{\n            'v': 9.183605629983195e+18,\n            'f': \"9.183605629983195e+18\",\n        }]],\n        columns: [[\"string\", \"index\"], [\"number\", \"weight_pounds\"], [\"number\", \"mother_age\"], [\"number\", \"plurality\"], [\"number\", \"gestation_weeks\"], [\"number\", \"hashmonth\"]],\n        columnOptions: [{\"width\": \"1px\", \"className\": \"index_column\"}],\n        rowsPerPage: 25,\n        helpUrl: \"https://colab.research.google.com/notebooks/data_table.ipynb\",\n      });\n    ",
            "text/html": [
              "<div>\n",
              "<style scoped>\n",
              "    .dataframe tbody tr th:only-of-type {\n",
              "        vertical-align: middle;\n",
              "    }\n",
              "\n",
              "    .dataframe tbody tr th {\n",
              "        vertical-align: top;\n",
              "    }\n",
              "\n",
              "    .dataframe thead th {\n",
              "        text-align: right;\n",
              "    }\n",
              "</style>\n",
              "<table border=\"1\" class=\"dataframe\">\n",
              "  <thead>\n",
              "    <tr style=\"text-align: right;\">\n",
              "      <th></th>\n",
              "      <th>weight_pounds</th>\n",
              "      <th>mother_age</th>\n",
              "      <th>plurality</th>\n",
              "      <th>gestation_weeks</th>\n",
              "      <th>hashmonth</th>\n",
              "    </tr>\n",
              "  </thead>\n",
              "  <tbody>\n",
              "    <tr>\n",
              "      <th>count</th>\n",
              "      <td>13471.000000</td>\n",
              "      <td>13485.000000</td>\n",
              "      <td>13485.000000</td>\n",
              "      <td>13386.000000</td>\n",
              "      <td>1.348500e+04</td>\n",
              "    </tr>\n",
              "    <tr>\n",
              "      <th>mean</th>\n",
              "      <td>7.237199</td>\n",
              "      <td>27.404227</td>\n",
              "      <td>1.035595</td>\n",
              "      <td>38.600926</td>\n",
              "      <td>4.368422e+18</td>\n",
              "    </tr>\n",
              "    <tr>\n",
              "      <th>std</th>\n",
              "      <td>1.320609</td>\n",
              "      <td>6.163461</td>\n",
              "      <td>0.195415</td>\n",
              "      <td>2.554013</td>\n",
              "      <td>2.807565e+18</td>\n",
              "    </tr>\n",
              "    <tr>\n",
              "      <th>min</th>\n",
              "      <td>0.562179</td>\n",
              "      <td>13.000000</td>\n",
              "      <td>1.000000</td>\n",
              "      <td>18.000000</td>\n",
              "      <td>7.493147e+16</td>\n",
              "    </tr>\n",
              "    <tr>\n",
              "      <th>25%</th>\n",
              "      <td>6.563162</td>\n",
              "      <td>22.000000</td>\n",
              "      <td>1.000000</td>\n",
              "      <td>38.000000</td>\n",
              "      <td>1.639186e+18</td>\n",
              "    </tr>\n",
              "    <tr>\n",
              "      <th>50%</th>\n",
              "      <td>7.312733</td>\n",
              "      <td>27.000000</td>\n",
              "      <td>1.000000</td>\n",
              "      <td>39.000000</td>\n",
              "      <td>4.329667e+18</td>\n",
              "    </tr>\n",
              "    <tr>\n",
              "      <th>75%</th>\n",
              "      <td>8.062305</td>\n",
              "      <td>32.000000</td>\n",
              "      <td>1.000000</td>\n",
              "      <td>40.000000</td>\n",
              "      <td>6.888635e+18</td>\n",
              "    </tr>\n",
              "    <tr>\n",
              "      <th>max</th>\n",
              "      <td>12.561940</td>\n",
              "      <td>49.000000</td>\n",
              "      <td>4.000000</td>\n",
              "      <td>47.000000</td>\n",
              "      <td>9.183606e+18</td>\n",
              "    </tr>\n",
              "  </tbody>\n",
              "</table>\n",
              "</div>"
            ],
            "text/plain": [
              "       weight_pounds    mother_age     plurality  gestation_weeks     hashmonth\n",
              "count   13471.000000  13485.000000  13485.000000     13386.000000  1.348500e+04\n",
              "mean        7.237199     27.404227      1.035595        38.600926  4.368422e+18\n",
              "std         1.320609      6.163461      0.195415         2.554013  2.807565e+18\n",
              "min         0.562179     13.000000      1.000000        18.000000  7.493147e+16\n",
              "25%         6.563162     22.000000      1.000000        38.000000  1.639186e+18\n",
              "50%         7.312733     27.000000      1.000000        39.000000  4.329667e+18\n",
              "75%         8.062305     32.000000      1.000000        40.000000  6.888635e+18\n",
              "max        12.561940     49.000000      4.000000        47.000000  9.183606e+18"
            ]
          },
          "metadata": {
            "tags": []
          },
          "execution_count": 30
        }
      ]
    },
    {
      "cell_type": "code",
      "metadata": {
        "id": "laKQLkCOCTqu",
        "colab_type": "code",
        "colab": {}
      },
      "source": [
        "## Data cleaning and duplicate-mask preprocessing\n",
        "def preprocess(df):\n",
        "    # simply delete the columns where info is missing or invalid\n",
        "    df = df[df.weight_pounds > 0]\n",
        "    df = df[df.mother_age > 0]\n",
        "    df = df[df.gestation_weeks > 0]\n",
        "    df = df[df.plurality > 0]\n",
        "\n",
        "    # Modify plurality field to be a string\n",
        "    twins_etc = dict(zip([1,2,3,4,5],\n",
        "                   ['Single(1)', 'Twins(2)', 'Triplets(3)', 'Quadruplets(4)', 'Quintuplets(5)']))\n",
        "    df['plurality'].replace(twins_etc, inplace=True)\n",
        "\n",
        "    # Duplicate the oringinal dataframe and a mask on the info that requires an ultrasound\n",
        "    masked = df.copy(deep=True) # deep copy means changes made to the two dataframe happen independently\n",
        "    # well, without ultrasound at least we know if we have one baby or multiples\n",
        "    masked.loc[masked['plurality'] != 'Single(1)', 'plurality'] = 'Multiple(2+)'\n",
        "    masked['is_male'] = 'Unknown'\n",
        "\n",
        "    return pd.concat([df, masked])"
      ],
      "execution_count": 0,
      "outputs": []
    },
    {
      "cell_type": "code",
      "metadata": {
        "id": "VwcC06bfCTgB",
        "colab_type": "code",
        "colab": {
          "base_uri": "https://localhost:8080/",
          "height": 50
        },
        "outputId": "61ae6fdb-219f-4ee7-aac6-f38526d1c271"
      },
      "source": [
        "traindf_processed = preprocess(traindf)\n",
        "evaldf_processed  = preprocess(evaldf)\n",
        "\n",
        "# Note that the length of the processed is not exactly twice of the original\n",
        "# Because invalid columns were removed\n",
        "print(len(traindf), len(traindf_processed))\n",
        "print(len(evaldf), len(evaldf_processed))"
      ],
      "execution_count": 32,
      "outputs": [
        {
          "output_type": "stream",
          "text": [
            "13485 26746\n",
            "2998 5942\n"
          ],
          "name": "stdout"
        }
      ]
    },
    {
      "cell_type": "code",
      "metadata": {
        "id": "9UtplzPmCR8E",
        "colab_type": "code",
        "colab": {
          "base_uri": "https://localhost:8080/",
          "height": 260
        },
        "outputId": "ef16b6a6-0c87-405e-b3ac-03ca94626373"
      },
      "source": [
        "traindf_processed.describe()"
      ],
      "execution_count": 34,
      "outputs": [
        {
          "output_type": "execute_result",
          "data": {
            "application/vnd.google.colaboratory.module+javascript": "\n      import \"https://ssl.gstatic.com/colaboratory/data_table/9e554b27bdd509f3/data_table.js\";\n\n      window.createDataTable({\n        data: [[\"count\",\n{\n            'v': 26746.0,\n            'f': \"26746.0\",\n        },\n{\n            'v': 26746.0,\n            'f': \"26746.0\",\n        },\n{\n            'v': 26746.0,\n            'f': \"26746.0\",\n        },\n{\n            'v': 26746.0,\n            'f': \"26746.0\",\n        }],\n [\"mean\",\n{\n            'v': 7.23873667882257,\n            'f': \"7.23873667882257\",\n        },\n{\n            'v': 27.402901368428925,\n            'f': \"27.402901368428925\",\n        },\n{\n            'v': 38.60749270919016,\n            'f': \"38.60749270919016\",\n        },\n{\n            'v': 4.3705779098213274e+18,\n            'f': \"4.3705779098213274e+18\",\n        }],\n [\"std\",\n{\n            'v': 1.3178206530830496,\n            'f': \"1.3178206530830496\",\n        },\n{\n            'v': 6.152393636736361,\n            'f': \"6.152393636736361\",\n        },\n{\n            'v': 2.528206616457218,\n            'f': \"2.528206616457218\",\n        },\n{\n            'v': 2.805552640263152e+18,\n            'f': \"2.805552640263152e+18\",\n        }],\n [\"min\",\n{\n            'v': 0.5621787681,\n            'f': \"0.5621787681\",\n        },\n{\n            'v': 13.0,\n            'f': \"13.0\",\n        },\n{\n            'v': 19.0,\n            'f': \"19.0\",\n        },\n{\n            'v': 7.493146549692749e+16,\n            'f': \"7.493146549692749e+16\",\n        }],\n [\"25%\",\n{\n            'v': 6.56316153974,\n            'f': \"6.56316153974\",\n        },\n{\n            'v': 23.0,\n            'f': \"23.0\",\n        },\n{\n            'v': 38.0,\n            'f': \"38.0\",\n        },\n{\n            'v': 1.6391862559339901e+18,\n            'f': \"1.6391862559339901e+18\",\n        }],\n [\"50%\",\n{\n            'v': 7.31273323054,\n            'f': \"7.31273323054\",\n        },\n{\n            'v': 27.0,\n            'f': \"27.0\",\n        },\n{\n            'v': 39.0,\n            'f': \"39.0\",\n        },\n{\n            'v': 4.329667052416033e+18,\n            'f': \"4.329667052416033e+18\",\n        }],\n [\"75%\",\n{\n            'v': 8.062304921339999,\n            'f': \"8.062304921339999\",\n        },\n{\n            'v': 32.0,\n            'f': \"32.0\",\n        },\n{\n            'v': 40.0,\n            'f': \"40.0\",\n        },\n{\n            'v': 6.888635180361965e+18,\n            'f': \"6.888635180361965e+18\",\n        }],\n [\"max\",\n{\n            'v': 12.561939688759999,\n            'f': \"12.561939688759999\",\n        },\n{\n            'v': 49.0,\n            'f': \"49.0\",\n        },\n{\n            'v': 47.0,\n            'f': \"47.0\",\n        },\n{\n            'v': 9.183605629983195e+18,\n            'f': \"9.183605629983195e+18\",\n        }]],\n        columns: [[\"string\", \"index\"], [\"number\", \"weight_pounds\"], [\"number\", \"mother_age\"], [\"number\", \"gestation_weeks\"], [\"number\", \"hashmonth\"]],\n        columnOptions: [{\"width\": \"1px\", \"className\": \"index_column\"}],\n        rowsPerPage: 25,\n        helpUrl: \"https://colab.research.google.com/notebooks/data_table.ipynb\",\n      });\n    ",
            "text/html": [
              "<div>\n",
              "<style scoped>\n",
              "    .dataframe tbody tr th:only-of-type {\n",
              "        vertical-align: middle;\n",
              "    }\n",
              "\n",
              "    .dataframe tbody tr th {\n",
              "        vertical-align: top;\n",
              "    }\n",
              "\n",
              "    .dataframe thead th {\n",
              "        text-align: right;\n",
              "    }\n",
              "</style>\n",
              "<table border=\"1\" class=\"dataframe\">\n",
              "  <thead>\n",
              "    <tr style=\"text-align: right;\">\n",
              "      <th></th>\n",
              "      <th>weight_pounds</th>\n",
              "      <th>mother_age</th>\n",
              "      <th>gestation_weeks</th>\n",
              "      <th>hashmonth</th>\n",
              "    </tr>\n",
              "  </thead>\n",
              "  <tbody>\n",
              "    <tr>\n",
              "      <th>count</th>\n",
              "      <td>26746.000000</td>\n",
              "      <td>26746.000000</td>\n",
              "      <td>26746.000000</td>\n",
              "      <td>2.674600e+04</td>\n",
              "    </tr>\n",
              "    <tr>\n",
              "      <th>mean</th>\n",
              "      <td>7.238737</td>\n",
              "      <td>27.402901</td>\n",
              "      <td>38.607493</td>\n",
              "      <td>4.370578e+18</td>\n",
              "    </tr>\n",
              "    <tr>\n",
              "      <th>std</th>\n",
              "      <td>1.317821</td>\n",
              "      <td>6.152394</td>\n",
              "      <td>2.528207</td>\n",
              "      <td>2.805553e+18</td>\n",
              "    </tr>\n",
              "    <tr>\n",
              "      <th>min</th>\n",
              "      <td>0.562179</td>\n",
              "      <td>13.000000</td>\n",
              "      <td>19.000000</td>\n",
              "      <td>7.493147e+16</td>\n",
              "    </tr>\n",
              "    <tr>\n",
              "      <th>25%</th>\n",
              "      <td>6.563162</td>\n",
              "      <td>23.000000</td>\n",
              "      <td>38.000000</td>\n",
              "      <td>1.639186e+18</td>\n",
              "    </tr>\n",
              "    <tr>\n",
              "      <th>50%</th>\n",
              "      <td>7.312733</td>\n",
              "      <td>27.000000</td>\n",
              "      <td>39.000000</td>\n",
              "      <td>4.329667e+18</td>\n",
              "    </tr>\n",
              "    <tr>\n",
              "      <th>75%</th>\n",
              "      <td>8.062305</td>\n",
              "      <td>32.000000</td>\n",
              "      <td>40.000000</td>\n",
              "      <td>6.888635e+18</td>\n",
              "    </tr>\n",
              "    <tr>\n",
              "      <th>max</th>\n",
              "      <td>12.561940</td>\n",
              "      <td>49.000000</td>\n",
              "      <td>47.000000</td>\n",
              "      <td>9.183606e+18</td>\n",
              "    </tr>\n",
              "  </tbody>\n",
              "</table>\n",
              "</div>"
            ],
            "text/plain": [
              "       weight_pounds    mother_age  gestation_weeks     hashmonth\n",
              "count   26746.000000  26746.000000     26746.000000  2.674600e+04\n",
              "mean        7.238737     27.402901        38.607493  4.370578e+18\n",
              "std         1.317821      6.152394         2.528207  2.805553e+18\n",
              "min         0.562179     13.000000        19.000000  7.493147e+16\n",
              "25%         6.563162     23.000000        38.000000  1.639186e+18\n",
              "50%         7.312733     27.000000        39.000000  4.329667e+18\n",
              "75%         8.062305     32.000000        40.000000  6.888635e+18\n",
              "max        12.561940     49.000000        47.000000  9.183606e+18"
            ]
          },
          "metadata": {
            "tags": []
          },
          "execution_count": 34
        }
      ]
    },
    {
      "cell_type": "code",
      "metadata": {
        "id": "2FqBzteGM_FV",
        "colab_type": "code",
        "colab": {
          "base_uri": "https://localhost:8080/",
          "height": 260
        },
        "outputId": "364a1e94-620a-4e26-a0b7-9b73148d2ffb"
      },
      "source": [
        "evaldf_processed.describe()"
      ],
      "execution_count": 35,
      "outputs": [
        {
          "output_type": "execute_result",
          "data": {
            "application/vnd.google.colaboratory.module+javascript": "\n      import \"https://ssl.gstatic.com/colaboratory/data_table/9e554b27bdd509f3/data_table.js\";\n\n      window.createDataTable({\n        data: [[\"count\",\n{\n            'v': 5942.0,\n            'f': \"5942.0\",\n        },\n{\n            'v': 5942.0,\n            'f': \"5942.0\",\n        },\n{\n            'v': 5942.0,\n            'f': \"5942.0\",\n        },\n{\n            'v': 5942.0,\n            'f': \"5942.0\",\n        }],\n [\"mean\",\n{\n            'v': 7.1995257476958985,\n            'f': \"7.1995257476958985\",\n        },\n{\n            'v': 27.2376304274655,\n            'f': \"27.2376304274655\",\n        },\n{\n            'v': 38.609222484012115,\n            'f': \"38.609222484012115\",\n        },\n{\n            'v': 4.298720819901762e+18,\n            'f': \"4.298720819901762e+18\",\n        }],\n [\"std\",\n{\n            'v': 1.3378246033329,\n            'f': \"1.3378246033329\",\n        },\n{\n            'v': 6.214702932782629,\n            'f': \"6.214702932782629\",\n        },\n{\n            'v': 2.586416376590991,\n            'f': \"2.586416376590991\",\n        },\n{\n            'v': 2.7307564380681677e+18,\n            'f': \"2.7307564380681677e+18\",\n        }],\n [\"min\",\n{\n            'v': 0.67681914434,\n            'f': \"0.67681914434\",\n        },\n{\n            'v': 13.0,\n            'f': \"13.0\",\n        },\n{\n            'v': 18.0,\n            'f': \"18.0\",\n        },\n{\n            'v': 2.6059843538774086e+17,\n            'f': \"2.6059843538774086e+17\",\n        }],\n [\"25%\",\n{\n            'v': 6.56316153974,\n            'f': \"6.56316153974\",\n        },\n{\n            'v': 22.0,\n            'f': \"22.0\",\n        },\n{\n            'v': 38.0,\n            'f': \"38.0\",\n        },\n{\n            'v': 1.4513541591952184e+18,\n            'f': \"1.4513541591952184e+18\",\n        }],\n [\"50%\",\n{\n            'v': 7.31273323054,\n            'f': \"7.31273323054\",\n        },\n{\n            'v': 27.0,\n            'f': \"27.0\",\n        },\n{\n            'v': 39.0,\n            'f': \"39.0\",\n        },\n{\n            'v': 4.3317498110152136e+18,\n            'f': \"4.3317498110152136e+18\",\n        }],\n [\"75%\",\n{\n            'v': 8.062304921339999,\n            'f': \"8.062304921339999\",\n        },\n{\n            'v': 32.0,\n            'f': \"32.0\",\n        },\n{\n            'v': 40.0,\n            'f': \"40.0\",\n        },\n{\n            'v': 7.146494315947641e+18,\n            'f': \"7.146494315947641e+18\",\n        }],\n [\"max\",\n{\n            'v': 12.6876031781,\n            'f': \"12.6876031781\",\n        },\n{\n            'v': 49.0,\n            'f': \"49.0\",\n        },\n{\n            'v': 47.0,\n            'f': \"47.0\",\n        },\n{\n            'v': 8.904940584331856e+18,\n            'f': \"8.904940584331856e+18\",\n        }]],\n        columns: [[\"string\", \"index\"], [\"number\", \"weight_pounds\"], [\"number\", \"mother_age\"], [\"number\", \"gestation_weeks\"], [\"number\", \"hashmonth\"]],\n        columnOptions: [{\"width\": \"1px\", \"className\": \"index_column\"}],\n        rowsPerPage: 25,\n        helpUrl: \"https://colab.research.google.com/notebooks/data_table.ipynb\",\n      });\n    ",
            "text/html": [
              "<div>\n",
              "<style scoped>\n",
              "    .dataframe tbody tr th:only-of-type {\n",
              "        vertical-align: middle;\n",
              "    }\n",
              "\n",
              "    .dataframe tbody tr th {\n",
              "        vertical-align: top;\n",
              "    }\n",
              "\n",
              "    .dataframe thead th {\n",
              "        text-align: right;\n",
              "    }\n",
              "</style>\n",
              "<table border=\"1\" class=\"dataframe\">\n",
              "  <thead>\n",
              "    <tr style=\"text-align: right;\">\n",
              "      <th></th>\n",
              "      <th>weight_pounds</th>\n",
              "      <th>mother_age</th>\n",
              "      <th>gestation_weeks</th>\n",
              "      <th>hashmonth</th>\n",
              "    </tr>\n",
              "  </thead>\n",
              "  <tbody>\n",
              "    <tr>\n",
              "      <th>count</th>\n",
              "      <td>5942.000000</td>\n",
              "      <td>5942.000000</td>\n",
              "      <td>5942.000000</td>\n",
              "      <td>5.942000e+03</td>\n",
              "    </tr>\n",
              "    <tr>\n",
              "      <th>mean</th>\n",
              "      <td>7.199526</td>\n",
              "      <td>27.237630</td>\n",
              "      <td>38.609222</td>\n",
              "      <td>4.298721e+18</td>\n",
              "    </tr>\n",
              "    <tr>\n",
              "      <th>std</th>\n",
              "      <td>1.337825</td>\n",
              "      <td>6.214703</td>\n",
              "      <td>2.586416</td>\n",
              "      <td>2.730756e+18</td>\n",
              "    </tr>\n",
              "    <tr>\n",
              "      <th>min</th>\n",
              "      <td>0.676819</td>\n",
              "      <td>13.000000</td>\n",
              "      <td>18.000000</td>\n",
              "      <td>2.605984e+17</td>\n",
              "    </tr>\n",
              "    <tr>\n",
              "      <th>25%</th>\n",
              "      <td>6.563162</td>\n",
              "      <td>22.000000</td>\n",
              "      <td>38.000000</td>\n",
              "      <td>1.451354e+18</td>\n",
              "    </tr>\n",
              "    <tr>\n",
              "      <th>50%</th>\n",
              "      <td>7.312733</td>\n",
              "      <td>27.000000</td>\n",
              "      <td>39.000000</td>\n",
              "      <td>4.331750e+18</td>\n",
              "    </tr>\n",
              "    <tr>\n",
              "      <th>75%</th>\n",
              "      <td>8.062305</td>\n",
              "      <td>32.000000</td>\n",
              "      <td>40.000000</td>\n",
              "      <td>7.146494e+18</td>\n",
              "    </tr>\n",
              "    <tr>\n",
              "      <th>max</th>\n",
              "      <td>12.687603</td>\n",
              "      <td>49.000000</td>\n",
              "      <td>47.000000</td>\n",
              "      <td>8.904941e+18</td>\n",
              "    </tr>\n",
              "  </tbody>\n",
              "</table>\n",
              "</div>"
            ],
            "text/plain": [
              "       weight_pounds   mother_age  gestation_weeks     hashmonth\n",
              "count    5942.000000  5942.000000      5942.000000  5.942000e+03\n",
              "mean        7.199526    27.237630        38.609222  4.298721e+18\n",
              "std         1.337825     6.214703         2.586416  2.730756e+18\n",
              "min         0.676819    13.000000        18.000000  2.605984e+17\n",
              "25%         6.563162    22.000000        38.000000  1.451354e+18\n",
              "50%         7.312733    27.000000        39.000000  4.331750e+18\n",
              "75%         8.062305    32.000000        40.000000  7.146494e+18\n",
              "max        12.687603    49.000000        47.000000  8.904941e+18"
            ]
          },
          "metadata": {
            "tags": []
          },
          "execution_count": 35
        }
      ]
    },
    {
      "cell_type": "code",
      "metadata": {
        "id": "Nxq9RoXtNAUX",
        "colab_type": "code",
        "colab": {}
      },
      "source": [
        ""
      ],
      "execution_count": 0,
      "outputs": []
    }
  ]
}
