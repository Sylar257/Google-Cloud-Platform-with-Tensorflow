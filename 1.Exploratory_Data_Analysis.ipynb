{
  "nbformat": 4,
  "nbformat_minor": 0,
  "metadata": {
    "colab": {
      "name": "Exploratory Data Analysis.ipynb",
      "provenance": [],
      "collapsed_sections": [],
      "include_colab_link": true
    },
    "kernelspec": {
      "name": "python3",
      "display_name": "Python 3"
    }
  },
  "cells": [
    {
      "cell_type": "markdown",
      "metadata": {
        "id": "view-in-github",
        "colab_type": "text"
      },
      "source": [
        "<a href=\"https://colab.research.google.com/github/Sylar257/Google-Cloud-Platform-with-Tensorflow/blob/master/Exploratory_Data_Analysis.ipynb\" target=\"_parent\"><img src=\"https://colab.research.google.com/assets/colab-badge.svg\" alt=\"Open In Colab\"/></a>"
      ]
    },
    {
      "cell_type": "markdown",
      "metadata": {
        "id": "rqmbx2r77YtO",
        "colab_type": "text"
      },
      "source": [
        "These code suppose to be run in a GCP instance. The instructions to set up such a instance\n",
        "is documented in the *README* [file](https://github.com/Sylar257/Google-Cloud-Platform-with-Tensorflow/blob/master/READNE.md) of thie Repo."
      ]
    },
    {
      "cell_type": "markdown",
      "metadata": {
        "id": "8PGXEJEF98Qs",
        "colab_type": "text"
      },
      "source": [
        "## Exploratory Data Analysis\n",
        "In this notebook, we will be performing EDA on a *natality* dataset from google *BigQuery*"
      ]
    },
    {
      "cell_type": "code",
      "metadata": {
        "id": "BVrqIxSt9ZZo",
        "colab_type": "code",
        "colab": {}
      },
      "source": [
        "# change these to try this notebook out\n",
        "BUCKET = 'example_bucket_26_11'      # CHANGE this to a globally unique value. Your project name is a good option to try.\n",
        "PROJECT = 'qwiklabs-gcp-00-09dd6f655043'     # CHANGE this to your project name\n",
        "REGION = 'australia-southeast1-a'    # CHANGE this to one of the regions supported by Cloud AI Platform https://cloud.google.com/ml-engine/docs/tensorflow/regions"
      ],
      "execution_count": 0,
      "outputs": []
    },
    {
      "cell_type": "code",
      "metadata": {
        "id": "K5ljvSz192lx",
        "colab_type": "code",
        "colab": {}
      },
      "source": [
        "import os\n",
        "os.environ['BUCKET'] = BUCKET\n",
        "os.environ['PROJECT'] = PROJECT\n",
        "os.environ['REGION'] = REGION\n",
        "%%bash\n",
        "if ! gsutil ls | grep -q gs://${BUCKET}/; then\n",
        "  gsutil mb -l ${REGION} gs://${BUCKET}\n",
        "fi"
      ],
      "execution_count": 0,
      "outputs": []
    },
    {
      "cell_type": "markdown",
      "metadata": {
        "id": "Vu7shHWy936j",
        "colab_type": "text"
      },
      "source": [
        "### Loading the data\n",
        "Use **SQL** query to access the natality data(\"LIMIT 1000\"), and create a **`Pandas` dataframe** to contain our query data.<br>\n",
        "The data is natality data (record of births in the US). My goal is to predict the baby's weight given a number of factors about the pregnancy and the baby's mother. Later, we will want to split the data into training and eval datasets. The hash of the year-month will be used for that -- this way, twins born on the same day won't end up in different cuts of the data."
      ]
    },
    {
      "cell_type": "code",
      "metadata": {
        "id": "o0QMGmOFKH5u",
        "colab_type": "code",
        "colab": {
          "base_uri": "https://localhost:8080/",
          "height": 34
        },
        "outputId": "dc72371d-2059-4ff1-ea85-98891549dd02"
      },
      "source": [
        "# Folllowing three lines of code allows you to run it within colab as well\n",
        "from google.colab import auth\n",
        "auth.authenticate_user()\n",
        "print('Authenticated')\n"
      ],
      "execution_count": 3,
      "outputs": [
        {
          "output_type": "stream",
          "text": [
            "Authenticated\n"
          ],
          "name": "stdout"
        }
      ]
    },
    {
      "cell_type": "code",
      "metadata": {
        "id": "0qfd1EduKTIi",
        "colab_type": "code",
        "colab": {}
      },
      "source": [
        "%load_ext google.colab.data_table"
      ],
      "execution_count": 0,
      "outputs": []
    },
    {
      "cell_type": "code",
      "metadata": {
        "id": "14zk2ZlLKSby",
        "colab_type": "code",
        "colab": {}
      },
      "source": [
        "project_id = 'qwiklabs-gcp-00-36eabeb083f7'\n",
        "from google.cloud import bigquery\n"
      ],
      "execution_count": 0,
      "outputs": []
    },
    {
      "cell_type": "code",
      "metadata": {
        "id": "lTMgJkDA-NRj",
        "colab_type": "code",
        "colab": {
          "base_uri": "https://localhost:8080/",
          "height": 200
        },
        "outputId": "e849f9ae-6004-4ee3-d555-abd0f1760307"
      },
      "source": [
        "import pandas as pd\n",
        "query = \"\"\"\n",
        "SELECT\n",
        "  weight_pounds,\n",
        "  is_male,\n",
        "  mother_age,\n",
        "  plurality,\n",
        "  gestation_weeks,\n",
        "  ABS(FARM_FINGERPRINT(CONCAT(CAST(YEAR AS STRING), CAST(month AS STRING)))) AS hashmonth\n",
        "FROM\n",
        "  publicdata.samples.natality\n",
        "WHERE year > 2000\n",
        "LIMIT 200\n",
        "\"\"\"\n",
        "sample_count = 2000\n",
        "df = pd.io.gbq.read_gbq(query, project_id=project_id, dialect='standard')\n",
        "\n",
        "df.head()"
      ],
      "execution_count": 6,
      "outputs": [
        {
          "output_type": "execute_result",
          "data": {
            "application/vnd.google.colaboratory.module+javascript": "\n      import \"https://ssl.gstatic.com/colaboratory/data_table/9e554b27bdd509f3/data_table.js\";\n\n      window.createDataTable({\n        data: [[{\n            'v': 0,\n            'f': \"0\",\n        },\n{\n            'v': 7.06361087448,\n            'f': \"7.06361087448\",\n        },\ntrue,\n{\n            'v': 32,\n            'f': \"32\",\n        },\n{\n            'v': 1,\n            'f': \"1\",\n        },\n{\n            'v': 37.0,\n            'f': \"37.0\",\n        },\n{\n            'v': \"7108882242435606404\",\n            'f': \"7108882242435606404\",\n        }],\n [{\n            'v': 1,\n            'f': \"1\",\n        },\n{\n            'v': 4.68702769012,\n            'f': \"4.68702769012\",\n        },\ntrue,\n{\n            'v': 30,\n            'f': \"30\",\n        },\n{\n            'v': 3,\n            'f': \"3\",\n        },\n{\n            'v': 33.0,\n            'f': \"33.0\",\n        },\n{\n            'v': \"7170969733900686954\",\n            'f': \"7170969733900686954\",\n        }],\n [{\n            'v': 2,\n            'f': \"2\",\n        },\n{\n            'v': 7.5618555866,\n            'f': \"7.5618555866\",\n        },\ntrue,\n{\n            'v': 20,\n            'f': \"20\",\n        },\n{\n            'v': 1,\n            'f': \"1\",\n        },\n{\n            'v': 39.0,\n            'f': \"39.0\",\n        },\n{\n            'v': \"6392072535155213407\",\n            'f': \"6392072535155213407\",\n        }],\n [{\n            'v': 3,\n            'f': \"3\",\n        },\n{\n            'v': 7.5618555866,\n            'f': \"7.5618555866\",\n        },\ntrue,\n{\n            'v': 31,\n            'f': \"31\",\n        },\n{\n            'v': 1,\n            'f': \"1\",\n        },\n{\n            'v': 37.0,\n            'f': \"37.0\",\n        },\n{\n            'v': \"2126480030009879160\",\n            'f': \"2126480030009879160\",\n        }],\n [{\n            'v': 4,\n            'f': \"4\",\n        },\n{\n            'v': 7.31273323054,\n            'f': \"7.31273323054\",\n        },\ntrue,\n{\n            'v': 32,\n            'f': \"32\",\n        },\n{\n            'v': 1,\n            'f': \"1\",\n        },\n{\n            'v': 40.0,\n            'f': \"40.0\",\n        },\n{\n            'v': \"3408502330831153141\",\n            'f': \"3408502330831153141\",\n        }]],\n        columns: [[\"number\", \"index\"], [\"number\", \"weight_pounds\"], [\"string\", \"is_male\"], [\"number\", \"mother_age\"], [\"number\", \"plurality\"], [\"number\", \"gestation_weeks\"], [\"number\", \"hashmonth\"]],\n        columnOptions: [{\"width\": \"1px\", \"className\": \"index_column\"}],\n        rowsPerPage: 25,\n        helpUrl: \"https://colab.research.google.com/notebooks/data_table.ipynb\",\n      });\n    ",
            "text/html": [
              "<div>\n",
              "<style scoped>\n",
              "    .dataframe tbody tr th:only-of-type {\n",
              "        vertical-align: middle;\n",
              "    }\n",
              "\n",
              "    .dataframe tbody tr th {\n",
              "        vertical-align: top;\n",
              "    }\n",
              "\n",
              "    .dataframe thead th {\n",
              "        text-align: right;\n",
              "    }\n",
              "</style>\n",
              "<table border=\"1\" class=\"dataframe\">\n",
              "  <thead>\n",
              "    <tr style=\"text-align: right;\">\n",
              "      <th></th>\n",
              "      <th>weight_pounds</th>\n",
              "      <th>is_male</th>\n",
              "      <th>mother_age</th>\n",
              "      <th>plurality</th>\n",
              "      <th>gestation_weeks</th>\n",
              "      <th>hashmonth</th>\n",
              "    </tr>\n",
              "  </thead>\n",
              "  <tbody>\n",
              "    <tr>\n",
              "      <th>0</th>\n",
              "      <td>7.063611</td>\n",
              "      <td>True</td>\n",
              "      <td>32</td>\n",
              "      <td>1</td>\n",
              "      <td>37.0</td>\n",
              "      <td>7108882242435606404</td>\n",
              "    </tr>\n",
              "    <tr>\n",
              "      <th>1</th>\n",
              "      <td>4.687028</td>\n",
              "      <td>True</td>\n",
              "      <td>30</td>\n",
              "      <td>3</td>\n",
              "      <td>33.0</td>\n",
              "      <td>7170969733900686954</td>\n",
              "    </tr>\n",
              "    <tr>\n",
              "      <th>2</th>\n",
              "      <td>7.561856</td>\n",
              "      <td>True</td>\n",
              "      <td>20</td>\n",
              "      <td>1</td>\n",
              "      <td>39.0</td>\n",
              "      <td>6392072535155213407</td>\n",
              "    </tr>\n",
              "    <tr>\n",
              "      <th>3</th>\n",
              "      <td>7.561856</td>\n",
              "      <td>True</td>\n",
              "      <td>31</td>\n",
              "      <td>1</td>\n",
              "      <td>37.0</td>\n",
              "      <td>2126480030009879160</td>\n",
              "    </tr>\n",
              "    <tr>\n",
              "      <th>4</th>\n",
              "      <td>7.312733</td>\n",
              "      <td>True</td>\n",
              "      <td>32</td>\n",
              "      <td>1</td>\n",
              "      <td>40.0</td>\n",
              "      <td>3408502330831153141</td>\n",
              "    </tr>\n",
              "  </tbody>\n",
              "</table>\n",
              "</div>"
            ],
            "text/plain": [
              "   weight_pounds  is_male  ...  gestation_weeks            hashmonth\n",
              "0       7.063611     True  ...             37.0  7108882242435606404\n",
              "1       4.687028     True  ...             33.0  7170969733900686954\n",
              "2       7.561856     True  ...             39.0  6392072535155213407\n",
              "3       7.561856     True  ...             37.0  2126480030009879160\n",
              "4       7.312733     True  ...             40.0  3408502330831153141\n",
              "\n",
              "[5 rows x 6 columns]"
            ]
          },
          "metadata": {
            "tags": []
          },
          "execution_count": 6
        }
      ]
    },
    {
      "cell_type": "markdown",
      "metadata": {
        "id": "812B78pVBz_8",
        "colab_type": "text"
      },
      "source": [
        "#### Take a look at the relationship between \"gender\", \"number_of_babies\" and \"average weight\""
      ]
    },
    {
      "cell_type": "code",
      "metadata": {
        "id": "R6JpuAegBw5z",
        "colab_type": "code",
        "colab": {}
      },
      "source": [
        "# Create a function that finds any one of the feature's corelation with average weight and number of babies\n",
        "def get_distinct_values(column_name):\n",
        "    # {0} refers to the first input variable. In this case, \"column_name\"\n",
        "    # This happens because the .format() at the end\n",
        "    query = \"\"\"\n",
        "    SELECT\n",
        "        {0},\n",
        "        COUNT(1) AS num_babies,\n",
        "        AVG(weight_pounds) AS avg_wt\n",
        "    FROM\n",
        "        publicdata.samples.natality\n",
        "    WHERE\n",
        "        year>2000\n",
        "    GROUP BY\n",
        "        {0}\n",
        "    \"\"\".format(column_name)\n",
        "    return pd.io.gbq.read_gbq(query, project_id=project_id, dialect='standard')"
      ],
      "execution_count": 0,
      "outputs": []
    },
    {
      "cell_type": "code",
      "metadata": {
        "id": "DKiBjOMY--Eb",
        "colab_type": "code",
        "colab": {
          "base_uri": "https://localhost:8080/",
          "height": 976
        },
        "outputId": "1d7cd193-3219-4a55-e69d-39a82c83c57b"
      },
      "source": [
        "# plot and see the corelation of our target(\"weight_pounds\") with other features\n",
        "\n",
        "# call on the 'is_male' column\n",
        "df = get_distinct_values('is_male')\n",
        "df.plot(x='is_male', y='num_babies', kind='bar');\n",
        "df.plot(x='is_male', y='num_babies', logy=True, kind='bar'); # take log on the y value\n",
        "df.plot(x='is_male', y='avg_wt', kind='bar');\n",
        "\n",
        "df.head()"
      ],
      "execution_count": 13,
      "outputs": [
        {
          "output_type": "execute_result",
          "data": {
            "application/vnd.google.colaboratory.module+javascript": "\n      import \"https://ssl.gstatic.com/colaboratory/data_table/9e554b27bdd509f3/data_table.js\";\n\n      window.createDataTable({\n        data: [[{\n            'v': 0,\n            'f': \"0\",\n        },\nfalse,\n{\n            'v': 16245054,\n            'f': \"16245054\",\n        },\n{\n            'v': 7.104715378102557,\n            'f': \"7.104715378102557\",\n        }],\n [{\n            'v': 1,\n            'f': \"1\",\n        },\ntrue,\n{\n            'v': 17026860,\n            'f': \"17026860\",\n        },\n{\n            'v': 7.349797320129254,\n            'f': \"7.349797320129254\",\n        }]],\n        columns: [[\"number\", \"index\"], [\"string\", \"is_male\"], [\"number\", \"num_babies\"], [\"number\", \"avg_wt\"]],\n        columnOptions: [{\"width\": \"1px\", \"className\": \"index_column\"}],\n        rowsPerPage: 25,\n        helpUrl: \"https://colab.research.google.com/notebooks/data_table.ipynb\",\n      });\n    ",
            "text/html": [
              "<div>\n",
              "<style scoped>\n",
              "    .dataframe tbody tr th:only-of-type {\n",
              "        vertical-align: middle;\n",
              "    }\n",
              "\n",
              "    .dataframe tbody tr th {\n",
              "        vertical-align: top;\n",
              "    }\n",
              "\n",
              "    .dataframe thead th {\n",
              "        text-align: right;\n",
              "    }\n",
              "</style>\n",
              "<table border=\"1\" class=\"dataframe\">\n",
              "  <thead>\n",
              "    <tr style=\"text-align: right;\">\n",
              "      <th></th>\n",
              "      <th>is_male</th>\n",
              "      <th>num_babies</th>\n",
              "      <th>avg_wt</th>\n",
              "    </tr>\n",
              "  </thead>\n",
              "  <tbody>\n",
              "    <tr>\n",
              "      <th>0</th>\n",
              "      <td>False</td>\n",
              "      <td>16245054</td>\n",
              "      <td>7.104715</td>\n",
              "    </tr>\n",
              "    <tr>\n",
              "      <th>1</th>\n",
              "      <td>True</td>\n",
              "      <td>17026860</td>\n",
              "      <td>7.349797</td>\n",
              "    </tr>\n",
              "  </tbody>\n",
              "</table>\n",
              "</div>"
            ],
            "text/plain": [
              "   is_male  num_babies    avg_wt\n",
              "0    False    16245054  7.104715\n",
              "1     True    17026860  7.349797"
            ]
          },
          "metadata": {
            "tags": []
          },
          "execution_count": 13
        },
        {
          "output_type": "display_data",
          "data": {
            "image/png": "[encoded data removed]",
            "text/plain": [
              "<Figure size 432x288 with 1 Axes>"
            ]
          },
          "metadata": {
            "tags": []
          }
        },
        {
          "output_type": "display_data",
          "data": {
            "image/png": "[encoded data removed]",
            "text/plain": [
              "<Figure size 432x288 with 1 Axes>"
            ]
          },
          "metadata": {
            "tags": []
          }
        },
        {
          "output_type": "display_data",
          "data": {
            "image/png": "[encoded data removed]",
            "text/plain": [
              "<Figure size 432x288 with 1 Axes>"
            ]
          },
          "metadata": {
            "tags": []
          }
        }
      ]
    },
    {
      "cell_type": "code",
      "metadata": {
        "id": "AmIcgsRyNZDF",
        "colab_type": "code",
        "colab": {
          "base_uri": "https://localhost:8080/",
          "height": 717
        },
        "outputId": "4f9c49e8-ec41-4dc7-8276-2ab676332477"
      },
      "source": [
        "# use line plot to explore mother's age's corelation with num_babies and baby weight\n",
        "df = get_distinct_values('mother_age')\n",
        "df.sort_values('mother_age',ascending=True, inplace=True)\n",
        "df.plot(x='mother_age', y='num_babies');\n",
        "df.plot(x='mother_age', y='avg_wt');\n",
        "df.head() # mother_age is sorted in ascending order(inplace)"
      ],
      "execution_count": 17,
      "outputs": [
        {
          "output_type": "execute_result",
          "data": {
            "application/vnd.google.colaboratory.module+javascript": "\n      import \"https://ssl.gstatic.com/colaboratory/data_table/9e554b27bdd509f3/data_table.js\";\n\n      window.createDataTable({\n        data: [[{\n            'v': 30,\n            'f': \"30\",\n        },\n{\n            'v': 10,\n            'f': \"10\",\n        },\n{\n            'v': 3,\n            'f': \"3\",\n        },\n{\n            'v': 7.53319549254,\n            'f': \"7.53319549254\",\n        }],\n [{\n            'v': 44,\n            'f': \"44\",\n        },\n{\n            'v': 11,\n            'f': \"11\",\n        },\n{\n            'v': 44,\n            'f': \"44\",\n        },\n{\n            'v': 6.149945113668637,\n            'f': \"6.149945113668637\",\n        }],\n [{\n            'v': 22,\n            'f': \"22\",\n        },\n{\n            'v': 12,\n            'f': \"12\",\n        },\n{\n            'v': 1196,\n            'f': \"1196\",\n        },\n{\n            'v': 6.506329623743892,\n            'f': \"6.506329623743892\",\n        }],\n [{\n            'v': 6,\n            'f': \"6\",\n        },\n{\n            'v': 13,\n            'f': \"13\",\n        },\n{\n            'v': 7552,\n            'f': \"7552\",\n        },\n{\n            'v': 6.65606303271323,\n            'f': \"6.65606303271323\",\n        }],\n [{\n            'v': 14,\n            'f': \"14\",\n        },\n{\n            'v': 14,\n            'f': \"14\",\n        },\n{\n            'v': 44868,\n            'f': \"44868\",\n        },\n{\n            'v': 6.7436836674661835,\n            'f': \"6.7436836674661835\",\n        }]],\n        columns: [[\"number\", \"index\"], [\"number\", \"mother_age\"], [\"number\", \"num_babies\"], [\"number\", \"avg_wt\"]],\n        columnOptions: [{\"width\": \"1px\", \"className\": \"index_column\"}],\n        rowsPerPage: 25,\n        helpUrl: \"https://colab.research.google.com/notebooks/data_table.ipynb\",\n      });\n    ",
            "text/html": [
              "<div>\n",
              "<style scoped>\n",
              "    .dataframe tbody tr th:only-of-type {\n",
              "        vertical-align: middle;\n",
              "    }\n",
              "\n",
              "    .dataframe tbody tr th {\n",
              "        vertical-align: top;\n",
              "    }\n",
              "\n",
              "    .dataframe thead th {\n",
              "        text-align: right;\n",
              "    }\n",
              "</style>\n",
              "<table border=\"1\" class=\"dataframe\">\n",
              "  <thead>\n",
              "    <tr style=\"text-align: right;\">\n",
              "      <th></th>\n",
              "      <th>mother_age</th>\n",
              "      <th>num_babies</th>\n",
              "      <th>avg_wt</th>\n",
              "    </tr>\n",
              "  </thead>\n",
              "  <tbody>\n",
              "    <tr>\n",
              "      <th>30</th>\n",
              "      <td>10</td>\n",
              "      <td>3</td>\n",
              "      <td>7.533195</td>\n",
              "    </tr>\n",
              "    <tr>\n",
              "      <th>44</th>\n",
              "      <td>11</td>\n",
              "      <td>44</td>\n",
              "      <td>6.149945</td>\n",
              "    </tr>\n",
              "    <tr>\n",
              "      <th>22</th>\n",
              "      <td>12</td>\n",
              "      <td>1196</td>\n",
              "      <td>6.506330</td>\n",
              "    </tr>\n",
              "    <tr>\n",
              "      <th>6</th>\n",
              "      <td>13</td>\n",
              "      <td>7552</td>\n",
              "      <td>6.656063</td>\n",
              "    </tr>\n",
              "    <tr>\n",
              "      <th>14</th>\n",
              "      <td>14</td>\n",
              "      <td>44868</td>\n",
              "      <td>6.743684</td>\n",
              "    </tr>\n",
              "  </tbody>\n",
              "</table>\n",
              "</div>"
            ],
            "text/plain": [
              "    mother_age  num_babies    avg_wt\n",
              "30          10           3  7.533195\n",
              "44          11          44  6.149945\n",
              "22          12        1196  6.506330\n",
              "6           13        7552  6.656063\n",
              "14          14       44868  6.743684"
            ]
          },
          "metadata": {
            "tags": []
          },
          "execution_count": 17
        },
        {
          "output_type": "display_data",
          "data": {
            "image/png": "[encoded data removed]",
            "text/plain": [
              "<Figure size 432x288 with 1 Axes>"
            ]
          },
          "metadata": {
            "tags": []
          }
        },
        {
          "output_type": "display_data",
          "data": {
            "image/png": "[encoded data removed]",
            "text/plain": [
              "<Figure size 432x288 with 1 Axes>"
            ]
          },
          "metadata": {
            "tags": []
          }
        }
      ]
    },
    {
      "cell_type": "markdown",
      "metadata": {
        "id": "GWEk1lNOOW_t",
        "colab_type": "text"
      },
      "source": [
        "## Note on mother's age\n",
        "it's obvious that there is a non-linear corelation between mother's age and the `num_babies` & `baby_weight`. <br>\n",
        "Thus, this is definetly a feature that we should exploit later when building our model"
      ]
    },
    {
      "cell_type": "code",
      "metadata": {
        "id": "5q71V5B8O-N7",
        "colab_type": "code",
        "colab": {
          "base_uri": "https://localhost:8080/",
          "height": 706
        },
        "outputId": "61183ffb-6cea-47cb-f206-52dd7316bb26"
      },
      "source": [
        "# Bar plot the number of babies the mother had for that birth giving\n",
        "\n",
        "df = get_distinct_values('plurality')\n",
        "df.sort_values('plurality', ascending=True, inplace=True)\n",
        "df.plot(x='plurality', y='avg_wt', kind='bar', color=('b', 'r', 'g', 'y', 'c'))\n",
        "df.plot(x='plurality', y='num_babies', logy=True, kind='bar',color=('b', 'r', 'g', 'y', 'c'))\n",
        "df.head() # see that `plurality` is sorted in ascending order(inplace)"
      ],
      "execution_count": 32,
      "outputs": [
        {
          "output_type": "execute_result",
          "data": {
            "application/vnd.google.colaboratory.module+javascript": "\n      import \"https://ssl.gstatic.com/colaboratory/data_table/9e554b27bdd509f3/data_table.js\";\n\n      window.createDataTable({\n        data: [[{\n            'v': 0,\n            'f': \"0\",\n        },\n{\n            'v': 1,\n            'f': \"1\",\n        },\n{\n            'v': 32159762,\n            'f': \"32159762\",\n        },\n{\n            'v': 7.304663316834139,\n            'f': \"7.304663316834139\",\n        }],\n [{\n            'v': 2,\n            'f': \"2\",\n        },\n{\n            'v': 2,\n            'f': \"2\",\n        },\n{\n            'v': 1056305,\n            'f': \"1056305\",\n        },\n{\n            'v': 5.144865891205559,\n            'f': \"5.144865891205559\",\n        }],\n [{\n            'v': 4,\n            'f': \"4\",\n        },\n{\n            'v': 3,\n            'f': \"3\",\n        },\n{\n            'v': 51913,\n            'f': \"51913\",\n        },\n{\n            'v': 3.6884417989139258,\n            'f': \"3.6884417989139258\",\n        }],\n [{\n            'v': 1,\n            'f': \"1\",\n        },\n{\n            'v': 4,\n            'f': \"4\",\n        },\n{\n            'v': 3337,\n            'f': \"3337\",\n        },\n{\n            'v': 2.8484587221945437,\n            'f': \"2.8484587221945437\",\n        }],\n [{\n            'v': 3,\n            'f': \"3\",\n        },\n{\n            'v': 5,\n            'f': \"5\",\n        },\n{\n            'v': 597,\n            'f': \"597\",\n        },\n{\n            'v': 2.515053216458176,\n            'f': \"2.515053216458176\",\n        }]],\n        columns: [[\"number\", \"index\"], [\"number\", \"plurality\"], [\"number\", \"num_babies\"], [\"number\", \"avg_wt\"]],\n        columnOptions: [{\"width\": \"1px\", \"className\": \"index_column\"}],\n        rowsPerPage: 25,\n        helpUrl: \"https://colab.research.google.com/notebooks/data_table.ipynb\",\n      });\n    ",
            "text/html": [
              "<div>\n",
              "<style scoped>\n",
              "    .dataframe tbody tr th:only-of-type {\n",
              "        vertical-align: middle;\n",
              "    }\n",
              "\n",
              "    .dataframe tbody tr th {\n",
              "        vertical-align: top;\n",
              "    }\n",
              "\n",
              "    .dataframe thead th {\n",
              "        text-align: right;\n",
              "    }\n",
              "</style>\n",
              "<table border=\"1\" class=\"dataframe\">\n",
              "  <thead>\n",
              "    <tr style=\"text-align: right;\">\n",
              "      <th></th>\n",
              "      <th>plurality</th>\n",
              "      <th>num_babies</th>\n",
              "      <th>avg_wt</th>\n",
              "    </tr>\n",
              "  </thead>\n",
              "  <tbody>\n",
              "    <tr>\n",
              "      <th>0</th>\n",
              "      <td>1</td>\n",
              "      <td>32159762</td>\n",
              "      <td>7.304663</td>\n",
              "    </tr>\n",
              "    <tr>\n",
              "      <th>2</th>\n",
              "      <td>2</td>\n",
              "      <td>1056305</td>\n",
              "      <td>5.144866</td>\n",
              "    </tr>\n",
              "    <tr>\n",
              "      <th>4</th>\n",
              "      <td>3</td>\n",
              "      <td>51913</td>\n",
              "      <td>3.688442</td>\n",
              "    </tr>\n",
              "    <tr>\n",
              "      <th>1</th>\n",
              "      <td>4</td>\n",
              "      <td>3337</td>\n",
              "      <td>2.848459</td>\n",
              "    </tr>\n",
              "    <tr>\n",
              "      <th>3</th>\n",
              "      <td>5</td>\n",
              "      <td>597</td>\n",
              "      <td>2.515053</td>\n",
              "    </tr>\n",
              "  </tbody>\n",
              "</table>\n",
              "</div>"
            ],
            "text/plain": [
              "   plurality  num_babies    avg_wt\n",
              "0          1    32159762  7.304663\n",
              "2          2     1056305  5.144866\n",
              "4          3       51913  3.688442\n",
              "1          4        3337  2.848459\n",
              "3          5         597  2.515053"
            ]
          },
          "metadata": {
            "tags": []
          },
          "execution_count": 32
        },
        {
          "output_type": "display_data",
          "data": {
            "image/png": "[encoded data removed]",
            "text/plain": [
              "<Figure size 432x288 with 1 Axes>"
            ]
          },
          "metadata": {
            "tags": []
          }
        },
        {
          "output_type": "display_data",
          "data": {
            "image/png": "[encoded data removed]",
            "text/plain": [
              "<Figure size 432x288 with 1 Axes>"
            ]
          },
          "metadata": {
            "tags": []
          }
        }
      ]
    },
    {
      "cell_type": "markdown",
      "metadata": {
        "id": "ADoTFapvPnVo",
        "colab_type": "text"
      },
      "source": [
        "#### Note\n",
        "Again very strong corelation here. Almost a linear relationship"
      ]
    },
    {
      "cell_type": "code",
      "metadata": {
        "id": "x8aJsWCMQSvy",
        "colab_type": "code",
        "colab": {
          "base_uri": "https://localhost:8080/",
          "height": 738
        },
        "outputId": "c143503a-dca5-429a-d6a9-ec5d89323661"
      },
      "source": [
        "# Bar plot to see gestation_weeks with avg_wt and num_babies(in logy)\n",
        "df = get_distinct_values('gestation_weeks')\n",
        "df.sort_values('gestation_weeks', ascending=True, inplace=True)\n",
        "df.plot(x='gestation_weeks', y='num_babies', logy=True, kind='bar', color=('b', 'r', 'g', 'y', 'c'))\n",
        "df.plot(x='gestation_weeks', y='avg_wt', kind='bar',color=('b', 'r', 'g', 'y', 'c'))\n",
        "df.head()"
      ],
      "execution_count": 34,
      "outputs": [
        {
          "output_type": "execute_result",
          "data": {
            "application/vnd.google.colaboratory.module+javascript": "\n      import \"https://ssl.gstatic.com/colaboratory/data_table/9e554b27bdd509f3/data_table.js\";\n\n      window.createDataTable({\n        data: [[{\n            'v': 22,\n            'f': \"22\",\n        },\n{\n            'v': 17,\n            'f': \"17\",\n        },\n{\n            'v': 2336,\n            'f': \"2336\",\n        },\n{\n            'v': 0.9780254558087187,\n            'f': \"0.9780254558087187\",\n        }],\n [{\n            'v': 15,\n            'f': \"15\",\n        },\n{\n            'v': 18,\n            'f': \"18\",\n        },\n{\n            'v': 3905,\n            'f': \"3905\",\n        },\n{\n            'v': 0.8843945819350106,\n            'f': \"0.8843945819350106\",\n        }],\n [{\n            'v': 14,\n            'f': \"14\",\n        },\n{\n            'v': 19,\n            'f': \"19\",\n        },\n{\n            'v': 6278,\n            'f': \"6278\",\n        },\n{\n            'v': 0.810889787761167,\n            'f': \"0.810889787761167\",\n        }],\n [{\n            'v': 27,\n            'f': \"27\",\n        },\n{\n            'v': 20,\n            'f': \"20\",\n        },\n{\n            'v': 10847,\n            'f': \"10847\",\n        },\n{\n            'v': 1.001573585640227,\n            'f': \"1.001573585640227\",\n        }],\n [{\n            'v': 28,\n            'f': \"28\",\n        },\n{\n            'v': 21,\n            'f': \"21\",\n        },\n{\n            'v': 14682,\n            'f': \"14682\",\n        },\n{\n            'v': 1.111511086709563,\n            'f': \"1.111511086709563\",\n        }]],\n        columns: [[\"number\", \"index\"], [\"number\", \"gestation_weeks\"], [\"number\", \"num_babies\"], [\"number\", \"avg_wt\"]],\n        columnOptions: [{\"width\": \"1px\", \"className\": \"index_column\"}],\n        rowsPerPage: 25,\n        helpUrl: \"https://colab.research.google.com/notebooks/data_table.ipynb\",\n      });\n    ",
            "text/html": [
              "<div>\n",
              "<style scoped>\n",
              "    .dataframe tbody tr th:only-of-type {\n",
              "        vertical-align: middle;\n",
              "    }\n",
              "\n",
              "    .dataframe tbody tr th {\n",
              "        vertical-align: top;\n",
              "    }\n",
              "\n",
              "    .dataframe thead th {\n",
              "        text-align: right;\n",
              "    }\n",
              "</style>\n",
              "<table border=\"1\" class=\"dataframe\">\n",
              "  <thead>\n",
              "    <tr style=\"text-align: right;\">\n",
              "      <th></th>\n",
              "      <th>gestation_weeks</th>\n",
              "      <th>num_babies</th>\n",
              "      <th>avg_wt</th>\n",
              "    </tr>\n",
              "  </thead>\n",
              "  <tbody>\n",
              "    <tr>\n",
              "      <th>22</th>\n",
              "      <td>17.0</td>\n",
              "      <td>2336</td>\n",
              "      <td>0.978025</td>\n",
              "    </tr>\n",
              "    <tr>\n",
              "      <th>15</th>\n",
              "      <td>18.0</td>\n",
              "      <td>3905</td>\n",
              "      <td>0.884395</td>\n",
              "    </tr>\n",
              "    <tr>\n",
              "      <th>14</th>\n",
              "      <td>19.0</td>\n",
              "      <td>6278</td>\n",
              "      <td>0.810890</td>\n",
              "    </tr>\n",
              "    <tr>\n",
              "      <th>27</th>\n",
              "      <td>20.0</td>\n",
              "      <td>10847</td>\n",
              "      <td>1.001574</td>\n",
              "    </tr>\n",
              "    <tr>\n",
              "      <th>28</th>\n",
              "      <td>21.0</td>\n",
              "      <td>14682</td>\n",
              "      <td>1.111511</td>\n",
              "    </tr>\n",
              "  </tbody>\n",
              "</table>\n",
              "</div>"
            ],
            "text/plain": [
              "    gestation_weeks  num_babies    avg_wt\n",
              "22             17.0        2336  0.978025\n",
              "15             18.0        3905  0.884395\n",
              "14             19.0        6278  0.810890\n",
              "27             20.0       10847  1.001574\n",
              "28             21.0       14682  1.111511"
            ]
          },
          "metadata": {
            "tags": []
          },
          "execution_count": 34
        },
        {
          "output_type": "display_data",
          "data": {
            "image/png": "[encoded data removed]",
            "text/plain": [
              "<Figure size 432x288 with 1 Axes>"
            ]
          },
          "metadata": {
            "tags": []
          }
        },
        {
          "output_type": "display_data",
          "data": {
            "image/png": "[encoded data removed]",
            "text/plain": [
              "<Figure size 432x288 with 1 Axes>"
            ]
          },
          "metadata": {
            "tags": []
          }
        }
      ]
    },
    {
      "cell_type": "markdown",
      "metadata": {
        "id": "9dTLtP4zQzml",
        "colab_type": "text"
      },
      "source": [
        "Again `gestation_weeks` is definetely another feature we should include in our models"
      ]
    }
  ]
}
