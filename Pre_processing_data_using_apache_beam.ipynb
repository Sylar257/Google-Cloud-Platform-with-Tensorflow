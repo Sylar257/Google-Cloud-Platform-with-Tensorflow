{
  "nbformat": 4,
  "nbformat_minor": 0,
  "metadata": {
    "kernelspec": {
      "display_name": "Python 3",
      "language": "python",
      "name": "python3"
    },
    "language_info": {
      "codemirror_mode": {
        "name": "ipython",
        "version": 3
      },
      "file_extension": ".py",
      "mimetype": "text/x-python",
      "name": "python",
      "nbconvert_exporter": "python",
      "pygments_lexer": "ipython3",
      "version": "3.5.3"
    },
    "colab": {
      "name": "Pre-processing_data_using_apache-beam.ipynb",
      "provenance": [],
      "collapsed_sections": [],
      "include_colab_link": true
    }
  },
  "cells": [
    {
      "cell_type": "markdown",
      "metadata": {
        "id": "view-in-github",
        "colab_type": "text"
      },
      "source": [
        "<a href=\"https://colab.research.google.com/github/Sylar257/Google-Cloud-Platform-with-Tensorflow/blob/master/Pre_processing_data_using_apache_beam.ipynb\" target=\"_parent\"><img src=\"https://colab.research.google.com/assets/colab-badge.svg\" alt=\"Open In Colab\"/></a>"
      ]
    },
    {
      "cell_type": "markdown",
      "metadata": {
        "id": "EloSHJpsorhI",
        "colab_type": "text"
      },
      "source": [
        "<h1> Preprocessing using Dataflow </h1>\n",
        "\n",
        "This notebook illustrates:\n",
        "<ol>\n",
        "<li> Creating datasets for Machine Learning using Dataflow\n",
        "</ol>\n",
        "<p>\n",
        "While Pandas is fine for experimenting, for operationalization of your workflow, it is better to do preprocessing in Apache Beam. This will also help if you need to preprocess data in flight, since Apache Beam also allows for streaming."
      ]
    },
    {
      "cell_type": "code",
      "metadata": {
        "id": "Wqo8jc0Uoyx7",
        "colab_type": "code",
        "colab": {}
      },
      "source": [
        "pip install --user apache-beam[gcp]"
      ],
      "execution_count": 0,
      "outputs": []
    },
    {
      "cell_type": "markdown",
      "metadata": {
        "id": "4CtgY_HIorhR",
        "colab_type": "text"
      },
      "source": [
        "Run the command again if you are getting oauth2client error.\n",
        "\n",
        "<b>Restart</b> the kernel before proceeding further.\n",
        "\n",
        "Make sure the Dataflow API is enabled by going to this [link](https://console.developers.google.com/apis/api/dataflow.googleapis.com). Ensure that you've installed Beam by importing it and printing the version number."
      ]
    },
    {
      "cell_type": "code",
      "metadata": {
        "id": "CIp_s4IBorhS",
        "colab_type": "code",
        "colab": {},
        "outputId": "d3c51670-77f0-4dac-bd51-ee3d1540fbf2"
      },
      "source": [
        "import apache_beam as beam\n",
        "print(beam.__version__)"
      ],
      "execution_count": 0,
      "outputs": [
        {
          "output_type": "stream",
          "text": [
            "2.16.0\n"
          ],
          "name": "stdout"
        }
      ]
    },
    {
      "cell_type": "markdown",
      "metadata": {
        "id": "wMCybLH5orhV",
        "colab_type": "text"
      },
      "source": [
        "You may receive a `UserWarning` about the Apache Beam SDK for Python 3 as not being yet fully supported. Don't worry about this."
      ]
    },
    {
      "cell_type": "code",
      "metadata": {
        "id": "AJ7o4AioorhW",
        "colab_type": "code",
        "colab": {}
      },
      "source": [
        "# change these to try this notebook out\n",
        "BUCKET = 'qwiklabs-gcp-00-4bd4b688d32d'\n",
        "PROJECT = 'qwiklabs-gcp-00-4bd4b688d32d'\n",
        "REGION = 'australia-southeast1'"
      ],
      "execution_count": 0,
      "outputs": []
    },
    {
      "cell_type": "code",
      "metadata": {
        "id": "5-mcYIlgorhZ",
        "colab_type": "code",
        "colab": {}
      },
      "source": [
        "import os\n",
        "os.environ['BUCKET'] = BUCKET\n",
        "os.environ['PROJECT'] = PROJECT\n",
        "os.environ['REGION'] = REGION"
      ],
      "execution_count": 0,
      "outputs": []
    },
    {
      "cell_type": "code",
      "metadata": {
        "id": "W6aW7oTSorhb",
        "colab_type": "code",
        "colab": {}
      },
      "source": [
        "%%bash\n",
        "if ! gsutil ls | grep -q gs://${BUCKET}/; then\n",
        "  gsutil mb -l ${REGION} gs://${BUCKET}\n",
        "fi"
      ],
      "execution_count": 0,
      "outputs": []
    },
    {
      "cell_type": "markdown",
      "metadata": {
        "id": "i_4s6D75orhe",
        "colab_type": "text"
      },
      "source": [
        "<h2> Create ML dataset using Dataflow </h2>\n",
        "Let's use Cloud Dataflow to read in the BigQuery data, do some preprocessing, and write it out as CSV files.\n",
        "\n",
        "Instead of using Beam/Dataflow, I had three other options:\n",
        "\n",
        "* Use Cloud Dataprep to visually author a Dataflow pipeline. Cloud Dataprep also allows me to explore the data, so we could have avoided much of the handcoding of Python/Seaborn calls above as well!\n",
        "* Read from BigQuery directly using TensorFlow.\n",
        "* Use the BigQuery console (http://bigquery.cloud.google.com) to run a Query and save the result as a CSV file. For larger datasets, you may have to select the option to \"allow large results\" and save the result into a CSV file on Google Cloud Storage. \n",
        "\n",
        "<p>\n",
        "\n",
        "However, in this case, I want to do some preprocessing, modifying data so that we can simulate what is known if no ultrasound has been performed. If I didn't need preprocessing, I could have used the web console. Also, I prefer to script it out rather than run queries on the user interface, so I am using Cloud Dataflow for the preprocessing."
      ]
    },
    {
      "cell_type": "code",
      "metadata": {
        "id": "wYsQMBHlorhe",
        "colab_type": "code",
        "colab": {}
      },
      "source": [
        "# Pull columns from BQ and create line(s) of CSV input\n",
        "\n",
        "def to_csv(rowdict):\n",
        "  import hashlib\n",
        "  import copy\n",
        "  \n",
        "  # hashmonth is not added here as it's not one of the feautres we incorporate for prediction\n",
        "  CSV_COLUMNS = 'weight_pounds,is_male,mother_age,plurality,gestation_weeks'.split(',')\n",
        "    \n",
        "  # Create synthetic data where we assume that no ultrasound has been performed\n",
        "  # and so we don't know sex of the baby. Let's assume that we can tell the difference\n",
        "  # between single and multiple, but that the errors rates in determining exact number\n",
        "  # is difficult in the absence of an ultrasound.\n",
        "  no_ultrasound = copy.deepcopy(rowdict)\n",
        "  w_ultrasound = copy.deepcopy(rowdict)\n",
        "\n",
        "  no_ultrasound['is_male'] = 'Unknown'\n",
        "  if rowdict['plurality'] > 1:\n",
        "    no_ultrasound['plurality'] = 'Multiple(2+)'\n",
        "  else:\n",
        "    no_ultrasound['plurality'] = 'Single(1)'\n",
        "\n",
        "  # Change the plurality column to strings\n",
        "  w_ultrasound['plurality'] = ['Single(1)', 'Twins(2)', 'Triplets(3)', 'Quadruplets(4)', 'Quintuplets(5)'][rowdict['plurality'] - 1]\n",
        "\n",
        "  # Write out two rows for each input row, one with ultrasound and one without\n",
        "  for result in [no_ultrasound, w_ultrasound]:\n",
        "    data = ','.join([str(result[k]) if k in result else 'None' for k in CSV_COLUMNS])\n",
        "    key = hashlib.sha224(data.encode('utf-8')).hexdigest()  # hash the columns to form a key\n",
        "    yield str('{},{}'.format(data, key))"
      ],
      "execution_count": 0,
      "outputs": []
    },
    {
      "cell_type": "code",
      "metadata": {
        "id": "9BCONVGForhh",
        "colab_type": "code",
        "colab": {},
        "outputId": "23cd629b-6de5-43c6-e7b8-4c881734ae2f"
      },
      "source": [
        "import datetime, os\n",
        "    \n",
        "def preprocess(in_test_mode):\n",
        "  import shutil, os, subprocess\n",
        "  job_name = 'preprocess-babyweight-features' + '-' + datetime.datetime.now().strftime('%y%m%d-%H%M%S')\n",
        "\n",
        "  if in_test_mode:\n",
        "      print('Launching local job ... hang on')\n",
        "      OUTPUT_DIR = './preproc'\n",
        "      shutil.rmtree(OUTPUT_DIR, ignore_errors=True)\n",
        "      os.makedirs(OUTPUT_DIR)\n",
        "  else:\n",
        "      print('Launching Dataflow job {} ... hang on'.format(job_name))\n",
        "      OUTPUT_DIR = 'gs://{0}/babyweight/preproc/'.format(BUCKET)\n",
        "      try:\n",
        "        subprocess.check_call('gsutil -m rm -r {}'.format(OUTPUT_DIR).split())\n",
        "      except:\n",
        "        pass\n",
        "\n",
        "  options = {\n",
        "      'staging_location': os.path.join(OUTPUT_DIR, 'tmp', 'staging'),\n",
        "      'temp_location': os.path.join(OUTPUT_DIR, 'tmp'),\n",
        "      'job_name': job_name,\n",
        "      'project': PROJECT,\n",
        "      'region': REGION,\n",
        "      'teardown_policy': 'TEARDOWN_ALWAYS',\n",
        "      'no_save_main_session': True,\n",
        "      'max_num_workers': 6\n",
        "  }\n",
        "  opts = beam.pipeline.PipelineOptions(flags = [], **options)\n",
        "  if in_test_mode:\n",
        "      RUNNER = 'DirectRunner'\n",
        "  else:\n",
        "      RUNNER = 'DataflowRunner'\n",
        "  p = beam.Pipeline(RUNNER, options = opts)\n",
        "    \n",
        "  query = \"\"\"\n",
        "SELECT\n",
        "  weight_pounds,\n",
        "  is_male,\n",
        "  mother_age,\n",
        "  plurality,\n",
        "  gestation_weeks,\n",
        "  ABS(FARM_FINGERPRINT(CONCAT(CAST(YEAR AS STRING), CAST(month AS STRING)))) AS hashmonth\n",
        "FROM\n",
        "  publicdata.samples.natality\n",
        "WHERE year > 2000\n",
        "AND weight_pounds > 0\n",
        "AND mother_age > 0\n",
        "AND plurality > 0\n",
        "AND gestation_weeks > 0\n",
        "AND month > 0\n",
        "    \"\"\"\n",
        "\n",
        "  if in_test_mode:\n",
        "    query = query + ' LIMIT 100' \n",
        "\n",
        "  for step in ['train', 'eval']:\n",
        "    if step == 'train':\n",
        "      selquery = 'SELECT * FROM ({}) WHERE MOD(ABS(hashmonth),4) < 3'.format(query)\n",
        "    else:\n",
        "      selquery = 'SELECT * FROM ({}) WHERE MOD(ABS(hashmonth),4) = 3'.format(query)\n",
        "\n",
        "    (p \n",
        "     | '{}_read'.format(step) >> beam.io.Read(beam.io.BigQuerySource(query = selquery, use_standard_sql=True))\n",
        "     | '{}_csv'.format(step) >> beam.FlatMap(to_csv)\n",
        "     | '{}_out'.format(step) >> beam.io.Write(beam.io.WriteToText(os.path.join(OUTPUT_DIR, '{}.csv'.format(step))))\n",
        "    )\n",
        "\n",
        "  job = p.run()\n",
        "  if in_test_mode:\n",
        "    job.wait_until_finish()\n",
        "    print(\"Done!\")\n",
        " \n",
        "preprocess(in_test_mode = True)"
      ],
      "execution_count": 0,
      "outputs": [
        {
          "output_type": "stream",
          "text": [
            "Launching local job ... hang on\n"
          ],
          "name": "stdout"
        },
        {
          "output_type": "stream",
          "text": [
            "WARNING:root:Dataset qwiklabs-gcp-00-4bd4b688d32d:temp_dataset_386265a898b14a98b7c0a007d16035d5 does not exist so we will create it as temporary with location=US\n",
            "WARNING:root:Dataset qwiklabs-gcp-00-4bd4b688d32d:temp_dataset_04346365705a41fb8781c3e817720e92 does not exist so we will create it as temporary with location=US\n"
          ],
          "name": "stderr"
        },
        {
          "output_type": "stream",
          "text": [
            "Done!\n"
          ],
          "name": "stdout"
        }
      ]
    },
    {
      "cell_type": "markdown",
      "metadata": {
        "id": "px75k0qforhj",
        "colab_type": "text"
      },
      "source": [
        "The above step will take 20+ minutes. Go to the GCP web console, navigate to the Dataflow section and <b>wait for the job to finish</b> before you run the following step."
      ]
    },
    {
      "cell_type": "code",
      "metadata": {
        "id": "NeA9RfGSorhk",
        "colab_type": "code",
        "colab": {},
        "outputId": "a4f2541d-bf32-4a33-9b47-9c1279ac6a06"
      },
      "source": [
        "!ls preproc"
      ],
      "execution_count": 0,
      "outputs": [
        {
          "output_type": "stream",
          "text": [
            "eval.csv-00000-of-00001  train.csv-00000-of-00001\n"
          ],
          "name": "stdout"
        }
      ]
    },
    {
      "cell_type": "code",
      "metadata": {
        "id": "KtwoSd5aorhm",
        "colab_type": "code",
        "colab": {},
        "outputId": "f181da93-eca7-473d-eeb9-8af6bcfc2ec9"
      },
      "source": [
        "!head preproc/train.csv*"
      ],
      "execution_count": 0,
      "outputs": [
        {
          "output_type": "stream",
          "text": [
            "6.686620406459999,Unknown,35,Single(1),35,1dbc184ff4ada8b1c4d26b84f08f3ed7c4b007ac3cf50301c766e18f\n",
            "6.686620406459999,False,35,Single(1),35,f2393b23afd6982b00551393c360fe1fc6e7104ad0de32b49fd33a65\n",
            "7.06361087448,Unknown,28,Single(1),35,75f3e78eb4110fb070c77616053f8f5f2e0b243787deb7b2d97ce9a2\n",
            "7.06361087448,False,28,Single(1),35,58433e19ff350bcfd8fb091a17fee652d69cd8aaaa486ef70a4b073e\n",
            "6.1244416383599996,Unknown,37,Single(1),36,d6ea0417a9d68de9202ee0d9ca9fb90e6237551602ce4091284fabf5\n",
            "6.1244416383599996,False,37,Single(1),36,a84a90f3bce322ccfa980cc2c63f335cff4a385b25be22cd405fb247\n",
            "8.12623897732,Unknown,25,Single(1),37,9675e0c377c3377fb2f1b796e308198850b4a8d159fe9192f810dcf3\n",
            "8.12623897732,False,25,Single(1),37,b0c141e2355ebb0aff21847833e94b5baec2620eff84e502c56c9083\n",
            "7.50012615324,Unknown,17,Single(1),37,ff0943d605b4df01e0cd9822a674edceb77fade78b4cfd48b211f042\n",
            "7.50012615324,False,17,Single(1),37,3ec1d751ff20b423292e286485bbd6df22850ef2889a125def1f03dd\n"
          ],
          "name": "stdout"
        }
      ]
    },
    {
      "cell_type": "code",
      "metadata": {
        "id": "KMtG1AiLorhq",
        "colab_type": "code",
        "colab": {}
      },
      "source": [
        "preprocess(in_test_mode = False)"
      ],
      "execution_count": 0,
      "outputs": []
    },
    {
      "cell_type": "code",
      "metadata": {
        "id": "gLeCO3eAorhs",
        "colab_type": "code",
        "colab": {}
      },
      "source": [
        ""
      ],
      "execution_count": 0,
      "outputs": []
    },
    {
      "cell_type": "code",
      "metadata": {
        "id": "hhllvqaPorhu",
        "colab_type": "code",
        "colab": {}
      },
      "source": [
        "%%bash\n",
        "gsutil ls gs://${BUCKET}/babyweight/preproc/*-00000*"
      ],
      "execution_count": 0,
      "outputs": []
    },
    {
      "cell_type": "markdown",
      "metadata": {
        "id": "7M6dbMpkorhx",
        "colab_type": "text"
      },
      "source": [
        "Copyright 2017 Google Inc. Licensed under the Apache License, Version 2.0 (the \"License\"); you may not use this file except in compliance with the License. You may obtain a copy of the License at http://www.apache.org/licenses/LICENSE-2.0 Unless required by applicable law or agreed to in writing, software distributed under the License is distributed on an \"AS IS\" BASIS, WITHOUT WARRANTIES OR CONDITIONS OF ANY KIND, either express or implied. See the License for the specific language governing permissions and limitations under the License"
      ]
    }
  ]
}