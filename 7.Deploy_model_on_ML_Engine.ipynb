{
  "nbformat": 4,
  "nbformat_minor": 0,
  "metadata": {
    "kernelspec": {
      "display_name": "Python 3",
      "language": "python",
      "name": "python3"
    },
    "language_info": {
      "codemirror_mode": {
        "name": "ipython",
        "version": 3
      },
      "file_extension": ".py",
      "mimetype": "text/x-python",
      "name": "python",
      "nbconvert_exporter": "python",
      "pygments_lexer": "ipython3",
      "version": "3.5.3"
    },
    "colab": {
      "name": "7.Deploy_model_on_ML_Engine.ipynb",
      "provenance": [],
      "include_colab_link": true
    }
  },
  "cells": [
    {
      "cell_type": "markdown",
      "metadata": {
        "id": "view-in-github",
        "colab_type": "text"
      },
      "source": [
        "<a href=\"https://colab.research.google.com/github/Sylar257/Google-Cloud-Platform-with-Tensorflow/blob/master/7.Deploy_model_on_ML_Engine.ipynb\" target=\"_parent\"><img src=\"https://colab.research.google.com/assets/colab-badge.svg\" alt=\"Open In Colab\"/></a>"
      ]
    },
    {
      "cell_type": "markdown",
      "metadata": {
        "id": "PQATdHetrC3I",
        "colab_type": "text"
      },
      "source": [
        "<h1> Deploying and predicting with model </h1>\n",
        "\n",
        "This notebook illustrates:\n",
        "<ol>\n",
        "<li> Deploying model\n",
        "<li> Predicting with model\n",
        "</ol>"
      ]
    },
    {
      "cell_type": "code",
      "metadata": {
        "id": "3ST7yG1WrC3L",
        "colab_type": "code",
        "colab": {}
      },
      "source": [
        "# change these to try this notebook out\n",
        "BUCKET = 'qwiklabs-gcp-00-e4268558efb5'\n",
        "PROJECT = 'qwiklabs-gcp-00-e4268558efb5'\n",
        "REGION = 'asia-northeast1'"
      ],
      "execution_count": 0,
      "outputs": []
    },
    {
      "cell_type": "code",
      "metadata": {
        "id": "Tsa7mZoQrC3P",
        "colab_type": "code",
        "colab": {}
      },
      "source": [
        "import os\n",
        "os.environ['BUCKET'] = BUCKET\n",
        "os.environ['PROJECT'] = PROJECT\n",
        "os.environ['REGION'] = REGION\n",
        "os.environ['TFVERSION'] = '1.13'  "
      ],
      "execution_count": 0,
      "outputs": []
    },
    {
      "cell_type": "code",
      "metadata": {
        "id": "XAPwOVi4rC3S",
        "colab_type": "code",
        "colab": {},
        "outputId": "19a9daf3-50fa-43c7-9aeb-3e0da0381b5f"
      },
      "source": [
        "%%bash\n",
        "if ! gsutil ls | grep -q gs://${BUCKET}/babyweight/trained_model; then\n",
        "  gsutil mb -l ${REGION} gs://${BUCKET}\n",
        "  # copy canonical model if you didn't do previous notebook\n",
        "  gsutil -m cp -R gs://cloud-training-demos/babyweight/trained_model gs://${BUCKET}/babyweight/trained_model\n",
        "fi"
      ],
      "execution_count": 0,
      "outputs": [
        {
          "output_type": "stream",
          "text": [
            "Creating gs://qwiklabs-gcp-00-e4268558efb5/...\n",
            "ServiceException: 409 Bucket qwiklabs-gcp-00-e4268558efb5 already exists.\n",
            "Copying gs://cloud-training-demos/babyweight/trained_model/checkpoint...\n",
            "Copying gs://cloud-training-demos/babyweight/trained_model/eval/events.out.tfevents.1529348264.cmle-training-master-a137ac0fff-0-9q8r4...\n",
            "Copying gs://cloud-training-demos/babyweight/trained_model/events.out.tfevents.1529347276.cmle-training-master-a137ac0fff-0-9q8r4...\n",
            "Copying gs://cloud-training-demos/babyweight/trained_model/export/exporter/1529355466/saved_model.pb...\n",
            "Copying gs://cloud-training-demos/babyweight/trained_model/export/exporter/1529355466/variables/variables.index...\n",
            "Copying gs://cloud-training-demos/babyweight/trained_model/export/exporter/1529355466/variables/variables.data-00000-of-00001...\n",
            "Copying gs://cloud-training-demos/babyweight/trained_model/model.ckpt-342784.data-00001-of-00003...\n",
            "Copying gs://cloud-training-demos/babyweight/trained_model/model.ckpt-342784.data-00000-of-00003...\n",
            "Copying gs://cloud-training-demos/babyweight/trained_model/graph.pbtxt...\n",
            "Copying gs://cloud-training-demos/babyweight/trained_model/model.ckpt-376661.data-00001-of-00003...\n",
            "Copying gs://cloud-training-demos/babyweight/trained_model/model.ckpt-342784.index...\n",
            "Copying gs://cloud-training-demos/babyweight/trained_model/model.ckpt-376661.meta...\n",
            "Copying gs://cloud-training-demos/babyweight/trained_model/model.ckpt-342784.data-00002-of-00003...\n",
            "Copying gs://cloud-training-demos/babyweight/trained_model/model.ckpt-376661.data-00000-of-00003...\n",
            "Copying gs://cloud-training-demos/babyweight/trained_model/model.ckpt-376661.data-00002-of-00003...\n",
            "Copying gs://cloud-training-demos/babyweight/trained_model/model.ckpt-342784.meta...\n",
            "Copying gs://cloud-training-demos/babyweight/trained_model/model.ckpt-390628.data-00001-of-00003...\n",
            "Copying gs://cloud-training-demos/babyweight/trained_model/model.ckpt-390628.data-00000-of-00003...\n",
            "Copying gs://cloud-training-demos/babyweight/trained_model/model.ckpt-390628.data-00002-of-00003...\n",
            "Copying gs://cloud-training-demos/babyweight/trained_model/model.ckpt-376661.index...\n",
            "Copying gs://cloud-training-demos/babyweight/trained_model/model.ckpt-390628.index...\n",
            "Copying gs://cloud-training-demos/babyweight/trained_model/model.ckpt-390628.meta...\n",
            "- [22/22 files][  6.5 MiB/  6.5 MiB] 100% Done                                  \n",
            "Operation completed over 22 objects/6.5 MiB.                                     \n"
          ],
          "name": "stderr"
        }
      ]
    },
    {
      "cell_type": "markdown",
      "metadata": {
        "id": "3mlgMbvsrC3W",
        "colab_type": "text"
      },
      "source": [
        "<h2> Deploy trained model </h2>\n",
        "<p>\n",
        "Deploying the trained model to act as a REST web service is a simple gcloud call."
      ]
    },
    {
      "cell_type": "code",
      "metadata": {
        "id": "GGgKsRsArC3W",
        "colab_type": "code",
        "colab": {},
        "outputId": "44cf2ed3-5f55-4459-f98b-32d1bc0895c3"
      },
      "source": [
        "%%bash\n",
        "gsutil ls gs://${BUCKET}/babyweight/trained_model/export/exporter/"
      ],
      "execution_count": 0,
      "outputs": [
        {
          "output_type": "stream",
          "text": [
            "gs://qwiklabs-gcp-00-e4268558efb5/babyweight/trained_model/export/exporter/1529355466/\n"
          ],
          "name": "stdout"
        }
      ]
    },
    {
      "cell_type": "code",
      "metadata": {
        "id": "SkZgetUvrC3Z",
        "colab_type": "code",
        "colab": {}
      },
      "source": [
        "%%bash\n",
        "MODEL_NAME=\"babyweight\"\n",
        "MODEL_VERSION=\"ml_on_gcp\"\n",
        "MODEL_LOCATION=$(gsutil ls gs://${BUCKET}/babyweight/trained_model/export/exporter/ | tail -1)\n",
        "echo \"Deleting and deploying $MODEL_NAME $MODEL_VERSION from $MODEL_LOCATION ... this will take a few minutes\"\n",
        "# gcloud ai-platform versions delete ${MODEL_VERSION} --model ${MODEL_NAME}\n",
        "# gcloud ai-platform models delete ${MODEL_NAME}\n",
        "gcloud ai-platform models create ${MODEL_NAME} --regions $REGION\n",
        "gcloud ai-platform versions create ${MODEL_VERSION} --model ${MODEL_NAME} --origin ${MODEL_LOCATION} --runtime-version $TFVERSION"
      ],
      "execution_count": 0,
      "outputs": []
    },
    {
      "cell_type": "markdown",
      "metadata": {
        "id": "H6K6yPRZrC3b",
        "colab_type": "text"
      },
      "source": [
        "<h2> Use model to predict (online prediction) </h2>\n",
        "<p>\n",
        "Send a JSON request to the endpoint of the service to make it predict a baby's weight. The order of the responses are the order of the instances."
      ]
    },
    {
      "cell_type": "code",
      "metadata": {
        "id": "Q_MiLq5mrC3c",
        "colab_type": "code",
        "colab": {}
      },
      "source": [
        "from oauth2client.client import GoogleCredentials\n",
        "import requests\n",
        "import json\n",
        "\n",
        "MODEL_NAME = 'babyweight'\n",
        "MODEL_VERSION = 'ml_on_gcp'\n",
        "\n",
        "token = GoogleCredentials.get_application_default().get_access_token().access_token\n",
        "api = 'https://ml.googleapis.com/v1/projects/{}/models/{}/versions/{}:predict' \\\n",
        "         .format(PROJECT, MODEL_NAME, MODEL_VERSION)\n",
        "headers = {'Authorization': 'Bearer ' + token }\n",
        "data = {\n",
        "  'instances': [\n",
        "    {\n",
        "      'key': 'b1',\n",
        "      'is_male': 'True',\n",
        "      'mother_age': 26.0,\n",
        "      'plurality': 'Single(1)',\n",
        "      'gestation_weeks': 39\n",
        "    },\n",
        "    {\n",
        "      'key': 'g1',\n",
        "      'is_male': 'False',\n",
        "      'mother_age': 29.0,\n",
        "      'plurality': 'Single(1)',\n",
        "      'gestation_weeks': 38\n",
        "    },\n",
        "    {\n",
        "      'key': 'b2',\n",
        "      'is_male': 'True',\n",
        "      'mother_age': 26.0,\n",
        "      'plurality': 'Triplets(3)',\n",
        "      'gestation_weeks': 39\n",
        "    },\n",
        "    {\n",
        "      'key': 'u1',\n",
        "      'is_male': 'Unknown',\n",
        "      'mother_age': 29.0,\n",
        "      'plurality': 'Multiple(2+)',\n",
        "      'gestation_weeks': 38\n",
        "    },\n",
        "  ]\n",
        "}\n",
        "response = requests.post(api, json=data, headers=headers)\n",
        "print(response.content)"
      ],
      "execution_count": 0,
      "outputs": []
    },
    {
      "cell_type": "markdown",
      "metadata": {
        "id": "GpDwH3LCrC3f",
        "colab_type": "text"
      },
      "source": [
        "The predictions for the four instances were: 7.66, 7.22, 6.32 and 6.19 pounds respectively when I ran it (your results might be different)."
      ]
    },
    {
      "cell_type": "markdown",
      "metadata": {
        "id": "NU_2qjP8rC3g",
        "colab_type": "text"
      },
      "source": [
        "<h2> Use model to predict (batch prediction) </h2>\n",
        "<p>\n",
        "Batch prediction is commonly used when you thousands to millions of predictions.\n",
        "Create a file with one instance per line and submit using gcloud."
      ]
    },
    {
      "cell_type": "code",
      "metadata": {
        "id": "_amX9vHfrC3g",
        "colab_type": "code",
        "colab": {}
      },
      "source": [
        "%%writefile inputs.json\n",
        "{\"key\": \"b1\", \"is_male\": \"True\", \"mother_age\": 26.0, \"plurality\": \"Single(1)\", \"gestation_weeks\": 39}\n",
        "{\"key\": \"g1\", \"is_male\": \"False\", \"mother_age\": 26.0, \"plurality\": \"Single(1)\", \"gestation_weeks\": 39}"
      ],
      "execution_count": 0,
      "outputs": []
    },
    {
      "cell_type": "code",
      "metadata": {
        "id": "ZxAIqvsLrC3j",
        "colab_type": "code",
        "colab": {}
      },
      "source": [
        "%%bash\n",
        "INPUT=gs://${BUCKET}/babyweight/batchpred/inputs.json\n",
        "OUTPUT=gs://${BUCKET}/babyweight/batchpred/outputs\n",
        "gsutil cp inputs.json $INPUT\n",
        "gsutil -m rm -rf $OUTPUT \n",
        "gcloud ai-platform jobs submit prediction babypred_$(date -u +%y%m%d_%H%M%S) \\\n",
        "  --data-format=TEXT --region ${REGION} \\\n",
        "  --input-paths=$INPUT \\\n",
        "  --output-path=$OUTPUT \\\n",
        "  --model=babyweight --version=ml_on_gcp"
      ],
      "execution_count": 0,
      "outputs": []
    },
    {
      "cell_type": "markdown",
      "metadata": {
        "id": "WSitWAygrC3m",
        "colab_type": "text"
      },
      "source": [
        "Copyright 2017 Google Inc. Licensed under the Apache License, Version 2.0 (the \"License\"); you may not use this file except in compliance with the License. You may obtain a copy of the License at http://www.apache.org/licenses/LICENSE-2.0 Unless required by applicable law or agreed to in writing, software distributed under the License is distributed on an \"AS IS\" BASIS, WITHOUT WARRANTIES OR CONDITIONS OF ANY KIND, either express or implied. See the License for the specific language governing permissions and limitations under the License"
      ]
    }
  ]
}